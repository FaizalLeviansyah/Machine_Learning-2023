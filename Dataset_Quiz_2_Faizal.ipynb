{
  "nbformat": 4,
  "nbformat_minor": 0,
  "metadata": {
    "colab": {
      "provenance": [],
      "gpuType": "T4",
      "include_colab_link": true
    },
    "kernelspec": {
      "name": "python3",
      "display_name": "Python 3"
    },
    "language_info": {
      "name": "python"
    },
    "accelerator": "GPU"
  },
  "cells": [
    {
      "cell_type": "markdown",
      "metadata": {
        "id": "view-in-github",
        "colab_type": "text"
      },
      "source": [
        "<a href=\"https://colab.research.google.com/github/FaizalLeviansyah/Machine_Learning-2023/blob/main/Dataset_Quiz_2_Faizal.ipynb\" target=\"_parent\"><img src=\"https://colab.research.google.com/assets/colab-badge.svg\" alt=\"Open In Colab\"/></a>"
      ]
    },
    {
      "cell_type": "code",
      "execution_count": 1,
      "metadata": {
        "id": "KEpj8eRovUKh"
      },
      "outputs": [],
      "source": [
        "import tensorflow as tf\n",
        "import numpy as np\n",
        "import pandas as pd\n",
        "import matplotlib.pyplot as plt\n",
        "import seaborn as sns\n",
        "from sklearn.preprocessing import LabelBinarizer\n",
        "from sklearn.model_selection import train_test_split\n",
        "from sklearn.metrics import classification_report\n",
        "import zipfile"
      ]
    },
    {
      "cell_type": "code",
      "source": [
        "from tensorflow.keras.datasets import mnist\n",
        "from tensorflow.keras import datasets, layers, models\n"
      ],
      "metadata": {
        "id": "UwNGU9tJwcIU"
      },
      "execution_count": 2,
      "outputs": []
    },
    {
      "cell_type": "code",
      "source": [
        "# Load MNIST dataset\n",
        "(train_images, train_labels), (test_images, test_labels) = datasets.mnist.load_data()\n",
        "\n",
        "# Display a sample image\n",
        "plt.figure()\n",
        "plt.imshow(train_images[0], cmap='gray')\n",
        "plt.title(f\"Label: {train_labels[0]}\")\n",
        "plt.show()"
      ],
      "metadata": {
        "id": "ZiK_Tn9ZwgHy",
        "outputId": "06ebbe65-2a22-4999-a439-282c649663f5",
        "colab": {
          "base_uri": "https://localhost:8080/",
          "height": 487
        }
      },
      "execution_count": 3,
      "outputs": [
        {
          "output_type": "stream",
          "name": "stdout",
          "text": [
            "Downloading data from https://storage.googleapis.com/tensorflow/tf-keras-datasets/mnist.npz\n",
            "11490434/11490434 [==============================] - 0s 0us/step\n"
          ]
        },
        {
          "output_type": "display_data",
          "data": {
            "text/plain": [
              "<Figure size 640x480 with 1 Axes>"
            ],
            "image/png": "[encoded data removed]"
          },
          "metadata": {}
        }
      ]
    },
    {
      "cell_type": "code",
      "source": [
        "digits_data = np.vstack([train_images, test_images])\n",
        "digits_labels = np.hstack([train_labels, test_labels])\n",
        "\n"
      ],
      "metadata": {
        "id": "by9z2aXMwx5z"
      },
      "execution_count": 4,
      "outputs": []
    },
    {
      "cell_type": "code",
      "source": [
        "digits_data.shape"
      ],
      "metadata": {
        "id": "IFfNKR1XxDgG",
        "outputId": "8e8da805-8124-4d77-8722-75349ce06b0b",
        "colab": {
          "base_uri": "https://localhost:8080/"
        }
      },
      "execution_count": 5,
      "outputs": [
        {
          "output_type": "execute_result",
          "data": {
            "text/plain": [
              "(70000, 28, 28)"
            ]
          },
          "metadata": {},
          "execution_count": 5
        }
      ]
    },
    {
      "cell_type": "code",
      "source": [
        "# Check label shape\n",
        "digits_labels.shape"
      ],
      "metadata": {
        "id": "BVJI2Lq1x0Ue",
        "outputId": "b1c81bb3-d0ab-4828-a6b9-f2ff1e1b9ee3",
        "colab": {
          "base_uri": "https://localhost:8080/"
        }
      },
      "execution_count": 6,
      "outputs": [
        {
          "output_type": "execute_result",
          "data": {
            "text/plain": [
              "(70000,)"
            ]
          },
          "metadata": {},
          "execution_count": 6
        }
      ]
    },
    {
      "cell_type": "code",
      "source": [
        "# Check data distribution\n",
        "df_labels = pd.DataFrame(digits_labels, columns=['Labels'])\n",
        "sns.countplot(df_labels, x='Labels')"
      ],
      "metadata": {
        "id": "GA6QatKCx54M",
        "outputId": "65ff18ce-1643-43de-e84d-73144170135b",
        "colab": {
          "base_uri": "https://localhost:8080/",
          "height": 466
        }
      },
      "execution_count": 7,
      "outputs": [
        {
          "output_type": "execute_result",
          "data": {
            "text/plain": [
              "<Axes: xlabel='Labels', ylabel='count'>"
            ]
          },
          "metadata": {},
          "execution_count": 7
        },
        {
          "output_type": "display_data",
          "data": {
            "text/plain": [
              "<Figure size 640x480 with 1 Axes>"
            ],
            "image/png": "[encoded data removed]"
          },
          "metadata": {}
        }
      ]
    },
    {
      "cell_type": "code",
      "source": [
        "!wget https://iaexpert.academy/arquivos/alfabeto_A-Z.zip\n"
      ],
      "metadata": {
        "id": "nDSpLRJXyFT3",
        "outputId": "d31a35d7-52fb-4474-9fa5-1772c4ebc1a3",
        "colab": {
          "base_uri": "https://localhost:8080/"
        }
      },
      "execution_count": 8,
      "outputs": [
        {
          "output_type": "stream",
          "name": "stdout",
          "text": [
            "--2023-12-08 01:40:10--  https://iaexpert.academy/arquivos/alfabeto_A-Z.zip\n",
            "Resolving iaexpert.academy (iaexpert.academy)... 162.159.134.42\n",
            "Connecting to iaexpert.academy (iaexpert.academy)|162.159.134.42|:443... connected.\n",
            "HTTP request sent, awaiting response... 200 OK\n",
            "Length: 193643888 (185M) [application/zip]\n",
            "Saving to: ‘alfabeto_A-Z.zip’\n",
            "\n",
            "alfabeto_A-Z.zip    100%[===================>] 184.67M  70.8MB/s    in 2.6s    \n",
            "\n",
            "2023-12-08 01:40:13 (70.8 MB/s) - ‘alfabeto_A-Z.zip’ saved [193643888/193643888]\n",
            "\n"
          ]
        }
      ]
    },
    {
      "cell_type": "code",
      "source": [
        "# Extract zip file\n",
        "zip_object = zipfile.ZipFile(file = 'alfabeto_A-Z.zip', mode = 'r')\n",
        "zip_object.extractall('./')\n",
        "zip_object.close()\n"
      ],
      "metadata": {
        "id": "mDhWq2puyLEA"
      },
      "execution_count": 9,
      "outputs": []
    },
    {
      "cell_type": "code",
      "source": [
        "dataset_az = pd.read_csv('A_Z Handwritten Data.csv').astype('float32')\n",
        "dataset_az\n"
      ],
      "metadata": {
        "id": "Saq2Mj6AyWji",
        "outputId": "af0cca42-ae00-4db5-c4b4-f0ca42417cee",
        "colab": {
          "base_uri": "https://localhost:8080/",
          "height": 424
        }
      },
      "execution_count": 10,
      "outputs": [
        {
          "output_type": "execute_result",
          "data": {
            "text/plain": [
              "           0  0.1  0.2  0.3  0.4  0.5  0.6  0.7  0.8  0.9  ...  0.639  0.640  \\\n",
              "0        0.0  0.0  0.0  0.0  0.0  0.0  0.0  0.0  0.0  0.0  ...    0.0    0.0   \n",
              "1        0.0  0.0  0.0  0.0  0.0  0.0  0.0  0.0  0.0  0.0  ...    0.0    0.0   \n",
              "2        0.0  0.0  0.0  0.0  0.0  0.0  0.0  0.0  0.0  0.0  ...    0.0    0.0   \n",
              "3        0.0  0.0  0.0  0.0  0.0  0.0  0.0  0.0  0.0  0.0  ...    0.0    0.0   \n",
              "4        0.0  0.0  0.0  0.0  0.0  0.0  0.0  0.0  0.0  0.0  ...    0.0    0.0   \n",
              "...      ...  ...  ...  ...  ...  ...  ...  ...  ...  ...  ...    ...    ...   \n",
              "372445  25.0  0.0  0.0  0.0  0.0  0.0  0.0  0.0  0.0  0.0  ...    0.0    0.0   \n",
              "372446  25.0  0.0  0.0  0.0  0.0  0.0  0.0  0.0  0.0  0.0  ...    0.0    0.0   \n",
              "372447  25.0  0.0  0.0  0.0  0.0  0.0  0.0  0.0  0.0  0.0  ...    0.0    0.0   \n",
              "372448  25.0  0.0  0.0  0.0  0.0  0.0  0.0  0.0  0.0  0.0  ...    0.0    0.0   \n",
              "372449  25.0  0.0  0.0  0.0  0.0  0.0  0.0  0.0  0.0  0.0  ...    0.0    0.0   \n",
              "\n",
              "        0.641  0.642  0.643  0.644  0.645  0.646  0.647  0.648  \n",
              "0         0.0    0.0    0.0    0.0    0.0    0.0    0.0    0.0  \n",
              "1         0.0    0.0    0.0    0.0    0.0    0.0    0.0    0.0  \n",
              "2         0.0    0.0    0.0    0.0    0.0    0.0    0.0    0.0  \n",
              "3         0.0    0.0    0.0    0.0    0.0    0.0    0.0    0.0  \n",
              "4         0.0    0.0    0.0    0.0    0.0    0.0    0.0    0.0  \n",
              "...       ...    ...    ...    ...    ...    ...    ...    ...  \n",
              "372445    0.0    0.0    0.0    0.0    0.0    0.0    0.0    0.0  \n",
              "372446    0.0    0.0    0.0    0.0    0.0    0.0    0.0    0.0  \n",
              "372447    0.0    0.0    0.0    0.0    0.0    0.0    0.0    0.0  \n",
              "372448    0.0    0.0    0.0    0.0    0.0    0.0    0.0    0.0  \n",
              "372449    0.0    0.0    0.0    0.0    0.0    0.0    0.0    0.0  \n",
              "\n",
              "[372450 rows x 785 columns]"
            ],
            "text/html": [
              "\n",
              "  <div id=\"df-2cf2fed4-c2b6-4f18-816f-43f499b2fc11\" class=\"colab-df-container\">\n",
              "    <div>\n",
              "<style scoped>\n",
              "    .dataframe tbody tr th:only-of-type {\n",
              "        vertical-align: middle;\n",
              "    }\n",
              "\n",
              "    .dataframe tbody tr th {\n",
              "        vertical-align: top;\n",
              "    }\n",
              "\n",
              "    .dataframe thead th {\n",
              "        text-align: right;\n",
              "    }\n",
              "</style>\n",
              "<table border=\"1\" class=\"dataframe\">\n",
              "  <thead>\n",
              "    <tr style=\"text-align: right;\">\n",
              "      <th></th>\n",
              "      <th>0</th>\n",
              "      <th>0.1</th>\n",
              "      <th>0.2</th>\n",
              "      <th>0.3</th>\n",
              "      <th>0.4</th>\n",
              "      <th>0.5</th>\n",
              "      <th>0.6</th>\n",
              "      <th>0.7</th>\n",
              "      <th>0.8</th>\n",
              "      <th>0.9</th>\n",
              "      <th>...</th>\n",
              "      <th>0.639</th>\n",
              "      <th>0.640</th>\n",
              "      <th>0.641</th>\n",
              "      <th>0.642</th>\n",
              "      <th>0.643</th>\n",
              "      <th>0.644</th>\n",
              "      <th>0.645</th>\n",
              "      <th>0.646</th>\n",
              "      <th>0.647</th>\n",
              "      <th>0.648</th>\n",
              "    </tr>\n",
              "  </thead>\n",
              "  <tbody>\n",
              "    <tr>\n",
              "      <th>0</th>\n",
              "      <td>0.0</td>\n",
              "      <td>0.0</td>\n",
              "      <td>0.0</td>\n",
              "      <td>0.0</td>\n",
              "      <td>0.0</td>\n",
              "      <td>0.0</td>\n",
              "      <td>0.0</td>\n",
              "      <td>0.0</td>\n",
              "      <td>0.0</td>\n",
              "      <td>0.0</td>\n",
              "      <td>...</td>\n",
              "      <td>0.0</td>\n",
              "      <td>0.0</td>\n",
              "      <td>0.0</td>\n",
              "      <td>0.0</td>\n",
              "      <td>0.0</td>\n",
              "      <td>0.0</td>\n",
              "      <td>0.0</td>\n",
              "      <td>0.0</td>\n",
              "      <td>0.0</td>\n",
              "      <td>0.0</td>\n",
              "    </tr>\n",
              "    <tr>\n",
              "      <th>1</th>\n",
              "      <td>0.0</td>\n",
              "      <td>0.0</td>\n",
              "      <td>0.0</td>\n",
              "      <td>0.0</td>\n",
              "      <td>0.0</td>\n",
              "      <td>0.0</td>\n",
              "      <td>0.0</td>\n",
              "      <td>0.0</td>\n",
              "      <td>0.0</td>\n",
              "      <td>0.0</td>\n",
              "      <td>...</td>\n",
              "      <td>0.0</td>\n",
              "      <td>0.0</td>\n",
              "      <td>0.0</td>\n",
              "      <td>0.0</td>\n",
              "      <td>0.0</td>\n",
              "      <td>0.0</td>\n",
              "      <td>0.0</td>\n",
              "      <td>0.0</td>\n",
              "      <td>0.0</td>\n",
              "      <td>0.0</td>\n",
              "    </tr>\n",
              "    <tr>\n",
              "      <th>2</th>\n",
              "      <td>0.0</td>\n",
              "      <td>0.0</td>\n",
              "      <td>0.0</td>\n",
              "      <td>0.0</td>\n",
              "      <td>0.0</td>\n",
              "      <td>0.0</td>\n",
              "      <td>0.0</td>\n",
              "      <td>0.0</td>\n",
              "      <td>0.0</td>\n",
              "      <td>0.0</td>\n",
              "      <td>...</td>\n",
              "      <td>0.0</td>\n",
              "      <td>0.0</td>\n",
              "      <td>0.0</td>\n",
              "      <td>0.0</td>\n",
              "      <td>0.0</td>\n",
              "      <td>0.0</td>\n",
              "      <td>0.0</td>\n",
              "      <td>0.0</td>\n",
              "      <td>0.0</td>\n",
              "      <td>0.0</td>\n",
              "    </tr>\n",
              "    <tr>\n",
              "      <th>3</th>\n",
              "      <td>0.0</td>\n",
              "      <td>0.0</td>\n",
              "      <td>0.0</td>\n",
              "      <td>0.0</td>\n",
              "      <td>0.0</td>\n",
              "      <td>0.0</td>\n",
              "      <td>0.0</td>\n",
              "      <td>0.0</td>\n",
              "      <td>0.0</td>\n",
              "      <td>0.0</td>\n",
              "      <td>...</td>\n",
              "      <td>0.0</td>\n",
              "      <td>0.0</td>\n",
              "      <td>0.0</td>\n",
              "      <td>0.0</td>\n",
              "      <td>0.0</td>\n",
              "      <td>0.0</td>\n",
              "      <td>0.0</td>\n",
              "      <td>0.0</td>\n",
              "      <td>0.0</td>\n",
              "      <td>0.0</td>\n",
              "    </tr>\n",
              "    <tr>\n",
              "      <th>4</th>\n",
              "      <td>0.0</td>\n",
              "      <td>0.0</td>\n",
              "      <td>0.0</td>\n",
              "      <td>0.0</td>\n",
              "      <td>0.0</td>\n",
              "      <td>0.0</td>\n",
              "      <td>0.0</td>\n",
              "      <td>0.0</td>\n",
              "      <td>0.0</td>\n",
              "      <td>0.0</td>\n",
              "      <td>...</td>\n",
              "      <td>0.0</td>\n",
              "      <td>0.0</td>\n",
              "      <td>0.0</td>\n",
              "      <td>0.0</td>\n",
              "      <td>0.0</td>\n",
              "      <td>0.0</td>\n",
              "      <td>0.0</td>\n",
              "      <td>0.0</td>\n",
              "      <td>0.0</td>\n",
              "      <td>0.0</td>\n",
              "    </tr>\n",
              "    <tr>\n",
              "      <th>...</th>\n",
              "      <td>...</td>\n",
              "      <td>...</td>\n",
              "      <td>...</td>\n",
              "      <td>...</td>\n",
              "      <td>...</td>\n",
              "      <td>...</td>\n",
              "      <td>...</td>\n",
              "      <td>...</td>\n",
              "      <td>...</td>\n",
              "      <td>...</td>\n",
              "      <td>...</td>\n",
              "      <td>...</td>\n",
              "      <td>...</td>\n",
              "      <td>...</td>\n",
              "      <td>...</td>\n",
              "      <td>...</td>\n",
              "      <td>...</td>\n",
              "      <td>...</td>\n",
              "      <td>...</td>\n",
              "      <td>...</td>\n",
              "      <td>...</td>\n",
              "    </tr>\n",
              "    <tr>\n",
              "      <th>372445</th>\n",
              "      <td>25.0</td>\n",
              "      <td>0.0</td>\n",
              "      <td>0.0</td>\n",
              "      <td>0.0</td>\n",
              "      <td>0.0</td>\n",
              "      <td>0.0</td>\n",
              "      <td>0.0</td>\n",
              "      <td>0.0</td>\n",
              "      <td>0.0</td>\n",
              "      <td>0.0</td>\n",
              "      <td>...</td>\n",
              "      <td>0.0</td>\n",
              "      <td>0.0</td>\n",
              "      <td>0.0</td>\n",
              "      <td>0.0</td>\n",
              "      <td>0.0</td>\n",
              "      <td>0.0</td>\n",
              "      <td>0.0</td>\n",
              "      <td>0.0</td>\n",
              "      <td>0.0</td>\n",
              "      <td>0.0</td>\n",
              "    </tr>\n",
              "    <tr>\n",
              "      <th>372446</th>\n",
              "      <td>25.0</td>\n",
              "      <td>0.0</td>\n",
              "      <td>0.0</td>\n",
              "      <td>0.0</td>\n",
              "      <td>0.0</td>\n",
              "      <td>0.0</td>\n",
              "      <td>0.0</td>\n",
              "      <td>0.0</td>\n",
              "      <td>0.0</td>\n",
              "      <td>0.0</td>\n",
              "      <td>...</td>\n",
              "      <td>0.0</td>\n",
              "      <td>0.0</td>\n",
              "      <td>0.0</td>\n",
              "      <td>0.0</td>\n",
              "      <td>0.0</td>\n",
              "      <td>0.0</td>\n",
              "      <td>0.0</td>\n",
              "      <td>0.0</td>\n",
              "      <td>0.0</td>\n",
              "      <td>0.0</td>\n",
              "    </tr>\n",
              "    <tr>\n",
              "      <th>372447</th>\n",
              "      <td>25.0</td>\n",
              "      <td>0.0</td>\n",
              "      <td>0.0</td>\n",
              "      <td>0.0</td>\n",
              "      <td>0.0</td>\n",
              "      <td>0.0</td>\n",
              "      <td>0.0</td>\n",
              "      <td>0.0</td>\n",
              "      <td>0.0</td>\n",
              "      <td>0.0</td>\n",
              "      <td>...</td>\n",
              "      <td>0.0</td>\n",
              "      <td>0.0</td>\n",
              "      <td>0.0</td>\n",
              "      <td>0.0</td>\n",
              "      <td>0.0</td>\n",
              "      <td>0.0</td>\n",
              "      <td>0.0</td>\n",
              "      <td>0.0</td>\n",
              "      <td>0.0</td>\n",
              "      <td>0.0</td>\n",
              "    </tr>\n",
              "    <tr>\n",
              "      <th>372448</th>\n",
              "      <td>25.0</td>\n",
              "      <td>0.0</td>\n",
              "      <td>0.0</td>\n",
              "      <td>0.0</td>\n",
              "      <td>0.0</td>\n",
              "      <td>0.0</td>\n",
              "      <td>0.0</td>\n",
              "      <td>0.0</td>\n",
              "      <td>0.0</td>\n",
              "      <td>0.0</td>\n",
              "      <td>...</td>\n",
              "      <td>0.0</td>\n",
              "      <td>0.0</td>\n",
              "      <td>0.0</td>\n",
              "      <td>0.0</td>\n",
              "      <td>0.0</td>\n",
              "      <td>0.0</td>\n",
              "      <td>0.0</td>\n",
              "      <td>0.0</td>\n",
              "      <td>0.0</td>\n",
              "      <td>0.0</td>\n",
              "    </tr>\n",
              "    <tr>\n",
              "      <th>372449</th>\n",
              "      <td>25.0</td>\n",
              "      <td>0.0</td>\n",
              "      <td>0.0</td>\n",
              "      <td>0.0</td>\n",
              "      <td>0.0</td>\n",
              "      <td>0.0</td>\n",
              "      <td>0.0</td>\n",
              "      <td>0.0</td>\n",
              "      <td>0.0</td>\n",
              "      <td>0.0</td>\n",
              "      <td>...</td>\n",
              "      <td>0.0</td>\n",
              "      <td>0.0</td>\n",
              "      <td>0.0</td>\n",
              "      <td>0.0</td>\n",
              "      <td>0.0</td>\n",
              "      <td>0.0</td>\n",
              "      <td>0.0</td>\n",
              "      <td>0.0</td>\n",
              "      <td>0.0</td>\n",
              "      <td>0.0</td>\n",
              "    </tr>\n",
              "  </tbody>\n",
              "</table>\n",
              "<p>372450 rows × 785 columns</p>\n",
              "</div>\n",
              "    <div class=\"colab-df-buttons\">\n",
              "\n",
              "  <div class=\"colab-df-container\">\n",
              "    <button class=\"colab-df-convert\" onclick=\"convertToInteractive('df-2cf2fed4-c2b6-4f18-816f-43f499b2fc11')\"\n",
              "            title=\"Convert this dataframe to an interactive table.\"\n",
              "            style=\"display:none;\">\n",
              "\n",
              "  <svg xmlns=\"http://www.w3.org/2000/svg\" height=\"24px\" viewBox=\"0 -960 960 960\">\n",
              "    <path d=\"M120-120v-720h720v720H120Zm60-500h600v-160H180v160Zm220 220h160v-160H400v160Zm0 220h160v-160H400v160ZM180-400h160v-160H180v160Zm440 0h160v-160H620v160ZM180-180h160v-160H180v160Zm440 0h160v-160H620v160Z\"/>\n",
              "  </svg>\n",
              "    </button>\n",
              "\n",
              "  <style>\n",
              "    .colab-df-container {\n",
              "      display:flex;\n",
              "      gap: 12px;\n",
              "    }\n",
              "\n",
              "    .colab-df-convert {\n",
              "      background-color: #E8F0FE;\n",
              "      border: none;\n",
              "      border-radius: 50%;\n",
              "      cursor: pointer;\n",
              "      display: none;\n",
              "      fill: #1967D2;\n",
              "      height: 32px;\n",
              "      padding: 0 0 0 0;\n",
              "      width: 32px;\n",
              "    }\n",
              "\n",
              "    .colab-df-convert:hover {\n",
              "      background-color: #E2EBFA;\n",
              "      box-shadow: 0px 1px 2px rgba(60, 64, 67, 0.3), 0px 1px 3px 1px rgba(60, 64, 67, 0.15);\n",
              "      fill: #174EA6;\n",
              "    }\n",
              "\n",
              "    .colab-df-buttons div {\n",
              "      margin-bottom: 4px;\n",
              "    }\n",
              "\n",
              "    [theme=dark] .colab-df-convert {\n",
              "      background-color: #3B4455;\n",
              "      fill: #D2E3FC;\n",
              "    }\n",
              "\n",
              "    [theme=dark] .colab-df-convert:hover {\n",
              "      background-color: #434B5C;\n",
              "      box-shadow: 0px 1px 3px 1px rgba(0, 0, 0, 0.15);\n",
              "      filter: drop-shadow(0px 1px 2px rgba(0, 0, 0, 0.3));\n",
              "      fill: #FFFFFF;\n",
              "    }\n",
              "  </style>\n",
              "\n",
              "    <script>\n",
              "      const buttonEl =\n",
              "        document.querySelector('#df-2cf2fed4-c2b6-4f18-816f-43f499b2fc11 button.colab-df-convert');\n",
              "      buttonEl.style.display =\n",
              "        google.colab.kernel.accessAllowed ? 'block' : 'none';\n",
              "\n",
              "      async function convertToInteractive(key) {\n",
              "        const element = document.querySelector('#df-2cf2fed4-c2b6-4f18-816f-43f499b2fc11');\n",
              "        const dataTable =\n",
              "          await google.colab.kernel.invokeFunction('convertToInteractive',\n",
              "                                                    [key], {});\n",
              "        if (!dataTable) return;\n",
              "\n",
              "        const docLinkHtml = 'Like what you see? Visit the ' +\n",
              "          '<a target=\"_blank\" href=https://colab.research.google.com/notebooks/data_table.ipynb>data table notebook</a>'\n",
              "          + ' to learn more about interactive tables.';\n",
              "        element.innerHTML = '';\n",
              "        dataTable['output_type'] = 'display_data';\n",
              "        await google.colab.output.renderOutput(dataTable, element);\n",
              "        const docLink = document.createElement('div');\n",
              "        docLink.innerHTML = docLinkHtml;\n",
              "        element.appendChild(docLink);\n",
              "      }\n",
              "    </script>\n",
              "  </div>\n",
              "\n",
              "\n",
              "<div id=\"df-18c0241d-0a66-4431-b6ce-5ffcef60679d\">\n",
              "  <button class=\"colab-df-quickchart\" onclick=\"quickchart('df-18c0241d-0a66-4431-b6ce-5ffcef60679d')\"\n",
              "            title=\"Suggest charts\"\n",
              "            style=\"display:none;\">\n",
              "\n",
              "<svg xmlns=\"http://www.w3.org/2000/svg\" height=\"24px\"viewBox=\"0 0 24 24\"\n",
              "     width=\"24px\">\n",
              "    <g>\n",
              "        <path d=\"M19 3H5c-1.1 0-2 .9-2 2v14c0 1.1.9 2 2 2h14c1.1 0 2-.9 2-2V5c0-1.1-.9-2-2-2zM9 17H7v-7h2v7zm4 0h-2V7h2v10zm4 0h-2v-4h2v4z\"/>\n",
              "    </g>\n",
              "</svg>\n",
              "  </button>\n",
              "\n",
              "<style>\n",
              "  .colab-df-quickchart {\n",
              "      --bg-color: #E8F0FE;\n",
              "      --fill-color: #1967D2;\n",
              "      --hover-bg-color: #E2EBFA;\n",
              "      --hover-fill-color: #174EA6;\n",
              "      --disabled-fill-color: #AAA;\n",
              "      --disabled-bg-color: #DDD;\n",
              "  }\n",
              "\n",
              "  [theme=dark] .colab-df-quickchart {\n",
              "      --bg-color: #3B4455;\n",
              "      --fill-color: #D2E3FC;\n",
              "      --hover-bg-color: #434B5C;\n",
              "      --hover-fill-color: #FFFFFF;\n",
              "      --disabled-bg-color: #3B4455;\n",
              "      --disabled-fill-color: #666;\n",
              "  }\n",
              "\n",
              "  .colab-df-quickchart {\n",
              "    background-color: var(--bg-color);\n",
              "    border: none;\n",
              "    border-radius: 50%;\n",
              "    cursor: pointer;\n",
              "    display: none;\n",
              "    fill: var(--fill-color);\n",
              "    height: 32px;\n",
              "    padding: 0;\n",
              "    width: 32px;\n",
              "  }\n",
              "\n",
              "  .colab-df-quickchart:hover {\n",
              "    background-color: var(--hover-bg-color);\n",
              "    box-shadow: 0 1px 2px rgba(60, 64, 67, 0.3), 0 1px 3px 1px rgba(60, 64, 67, 0.15);\n",
              "    fill: var(--button-hover-fill-color);\n",
              "  }\n",
              "\n",
              "  .colab-df-quickchart-complete:disabled,\n",
              "  .colab-df-quickchart-complete:disabled:hover {\n",
              "    background-color: var(--disabled-bg-color);\n",
              "    fill: var(--disabled-fill-color);\n",
              "    box-shadow: none;\n",
              "  }\n",
              "\n",
              "  .colab-df-spinner {\n",
              "    border: 2px solid var(--fill-color);\n",
              "    border-color: transparent;\n",
              "    border-bottom-color: var(--fill-color);\n",
              "    animation:\n",
              "      spin 1s steps(1) infinite;\n",
              "  }\n",
              "\n",
              "  @keyframes spin {\n",
              "    0% {\n",
              "      border-color: transparent;\n",
              "      border-bottom-color: var(--fill-color);\n",
              "      border-left-color: var(--fill-color);\n",
              "    }\n",
              "    20% {\n",
              "      border-color: transparent;\n",
              "      border-left-color: var(--fill-color);\n",
              "      border-top-color: var(--fill-color);\n",
              "    }\n",
              "    30% {\n",
              "      border-color: transparent;\n",
              "      border-left-color: var(--fill-color);\n",
              "      border-top-color: var(--fill-color);\n",
              "      border-right-color: var(--fill-color);\n",
              "    }\n",
              "    40% {\n",
              "      border-color: transparent;\n",
              "      border-right-color: var(--fill-color);\n",
              "      border-top-color: var(--fill-color);\n",
              "    }\n",
              "    60% {\n",
              "      border-color: transparent;\n",
              "      border-right-color: var(--fill-color);\n",
              "    }\n",
              "    80% {\n",
              "      border-color: transparent;\n",
              "      border-right-color: var(--fill-color);\n",
              "      border-bottom-color: var(--fill-color);\n",
              "    }\n",
              "    90% {\n",
              "      border-color: transparent;\n",
              "      border-bottom-color: var(--fill-color);\n",
              "    }\n",
              "  }\n",
              "</style>\n",
              "\n",
              "  <script>\n",
              "    async function quickchart(key) {\n",
              "      const quickchartButtonEl =\n",
              "        document.querySelector('#' + key + ' button');\n",
              "      quickchartButtonEl.disabled = true;  // To prevent multiple clicks.\n",
              "      quickchartButtonEl.classList.add('colab-df-spinner');\n",
              "      try {\n",
              "        const charts = await google.colab.kernel.invokeFunction(\n",
              "            'suggestCharts', [key], {});\n",
              "      } catch (error) {\n",
              "        console.error('Error during call to suggestCharts:', error);\n",
              "      }\n",
              "      quickchartButtonEl.classList.remove('colab-df-spinner');\n",
              "      quickchartButtonEl.classList.add('colab-df-quickchart-complete');\n",
              "    }\n",
              "    (() => {\n",
              "      let quickchartButtonEl =\n",
              "        document.querySelector('#df-18c0241d-0a66-4431-b6ce-5ffcef60679d button');\n",
              "      quickchartButtonEl.style.display =\n",
              "        google.colab.kernel.accessAllowed ? 'block' : 'none';\n",
              "    })();\n",
              "  </script>\n",
              "</div>\n",
              "    </div>\n",
              "  </div>\n"
            ]
          },
          "metadata": {},
          "execution_count": 10
        }
      ]
    },
    {
      "cell_type": "code",
      "source": [
        "\n",
        "# Get pixel data only\n",
        "alphabet_data = dataset_az.drop('0', axis=1)\n",
        "# Get labels only\n",
        "alphabet_labels = dataset_az['0']"
      ],
      "metadata": {
        "id": "2LDuZ1XMyhwA"
      },
      "execution_count": 11,
      "outputs": []
    },
    {
      "cell_type": "code",
      "source": [
        "# Check shape labels\n",
        "alphabet_labels.shape"
      ],
      "metadata": {
        "id": "NIPxb09DzsBP",
        "outputId": "e8c8c32a-cc2c-4d3d-f37d-b6cb1a6ba40b",
        "colab": {
          "base_uri": "https://localhost:8080/"
        }
      },
      "execution_count": 12,
      "outputs": [
        {
          "output_type": "execute_result",
          "data": {
            "text/plain": [
              "(372450,)"
            ]
          },
          "metadata": {},
          "execution_count": 12
        }
      ]
    },
    {
      "cell_type": "code",
      "source": [
        "# Reshape pixel data to 28*28\n",
        "alphabet_data = np.reshape(alphabet_data.values, (alphabet_data.shape[0], 28, 28))\n",
        "# Check the result by its shape\n",
        "alphabet_data.shape"
      ],
      "metadata": {
        "id": "b4CKSN5dztIc",
        "outputId": "8d26313e-8f35-481b-d32e-f68e9c9544cc",
        "colab": {
          "base_uri": "https://localhost:8080/"
        }
      },
      "execution_count": 13,
      "outputs": [
        {
          "output_type": "execute_result",
          "data": {
            "text/plain": [
              "(372450, 28, 28)"
            ]
          },
          "metadata": {},
          "execution_count": 13
        }
      ]
    },
    {
      "cell_type": "code",
      "source": [
        "# Randomly checking A-Z dataset\n",
        "index = np.random.randint(0, alphabet_data.shape[0])\n",
        "plt.imshow(alphabet_data[index], cmap = 'gray')\n",
        "plt.title('Class: ' + str(alphabet_labels[index]));\n"
      ],
      "metadata": {
        "id": "hyVM1Vfmz8l1",
        "outputId": "5ec6c245-8fb2-49d6-89d4-fdac23f4b126",
        "colab": {
          "base_uri": "https://localhost:8080/",
          "height": 452
        }
      },
      "execution_count": 14,
      "outputs": [
        {
          "output_type": "display_data",
          "data": {
            "text/plain": [
              "<Figure size 640x480 with 1 Axes>"
            ],
            "image/png": "[encoded data removed]"
          },
          "metadata": {}
        }
      ]
    },
    {
      "cell_type": "code",
      "source": [
        "# Check data distribution\n",
        "df_az_labels = pd.DataFrame({\n",
        "    'Labels': alphabet_labels.values\n",
        "})\n",
        "sns.countplot(df_az_labels, x='Labels')"
      ],
      "metadata": {
        "id": "G_x2Pz9H0BiK",
        "outputId": "f6a967c0-d8ed-4dc1-e670-55b3bf32aeb7",
        "colab": {
          "base_uri": "https://localhost:8080/",
          "height": 468
        }
      },
      "execution_count": 15,
      "outputs": [
        {
          "output_type": "execute_result",
          "data": {
            "text/plain": [
              "<Axes: xlabel='Labels', ylabel='count'>"
            ]
          },
          "metadata": {},
          "execution_count": 15
        },
        {
          "output_type": "display_data",
          "data": {
            "text/plain": [
              "<Figure size 640x480 with 1 Axes>"
            ],
            "image/png": "[encoded data removed]"
          },
          "metadata": {}
        }
      ]
    },
    {
      "cell_type": "code",
      "source": [
        "# Check unique value from digits_labels\n",
        "np.unique(digits_labels)"
      ],
      "metadata": {
        "colab": {
          "base_uri": "https://localhost:8080/"
        },
        "id": "FiD0dEWjQkcl",
        "outputId": "2126e8d6-0f29-4481-e6aa-b1095606f083"
      },
      "execution_count": 16,
      "outputs": [
        {
          "output_type": "execute_result",
          "data": {
            "text/plain": [
              "array([0, 1, 2, 3, 4, 5, 6, 7, 8, 9], dtype=uint8)"
            ]
          },
          "metadata": {},
          "execution_count": 16
        }
      ]
    },
    {
      "cell_type": "code",
      "source": [
        "\n",
        "# Check unique value from alphabet_labels\n",
        "np.unique(alphabet_labels)"
      ],
      "metadata": {
        "colab": {
          "base_uri": "https://localhost:8080/"
        },
        "id": "IBFe9RLdQlR2",
        "outputId": "6ea26387-07ee-4f30-e103-87c213e29a04"
      },
      "execution_count": 17,
      "outputs": [
        {
          "output_type": "execute_result",
          "data": {
            "text/plain": [
              "array([ 0.,  1.,  2.,  3.,  4.,  5.,  6.,  7.,  8.,  9., 10., 11., 12.,\n",
              "       13., 14., 15., 16., 17., 18., 19., 20., 21., 22., 23., 24., 25.],\n",
              "      dtype=float32)"
            ]
          },
          "metadata": {},
          "execution_count": 17
        }
      ]
    },
    {
      "cell_type": "code",
      "source": [
        "# We already know that digits labels containt labels from 0-9 (10 labels)\n",
        "# We also know that alphabet labels start from 0-25 which represent A-Z\n",
        "# If we want to combine them, the A-Z labels should continuing the digits label\n",
        "\n",
        "alphabet_labels += 10\n"
      ],
      "metadata": {
        "id": "eCJxSalXQoIn"
      },
      "execution_count": 18,
      "outputs": []
    },
    {
      "cell_type": "code",
      "source": [
        "\n",
        "# check alphabet labels again\n",
        "np.unique(alphabet_labels)\n"
      ],
      "metadata": {
        "colab": {
          "base_uri": "https://localhost:8080/"
        },
        "id": "XNPbvdb0QseR",
        "outputId": "69e480cc-fe7d-4c45-90fb-9be8395a58de"
      },
      "execution_count": 19,
      "outputs": [
        {
          "output_type": "execute_result",
          "data": {
            "text/plain": [
              "array([10., 11., 12., 13., 14., 15., 16., 17., 18., 19., 20., 21., 22.,\n",
              "       23., 24., 25., 26., 27., 28., 29., 30., 31., 32., 33., 34., 35.],\n",
              "      dtype=float32)"
            ]
          },
          "metadata": {},
          "execution_count": 19
        }
      ]
    },
    {
      "cell_type": "code",
      "source": [
        "# Combine both of them\n",
        "data = np.vstack([alphabet_data, digits_data])\n",
        "labels = np.hstack([alphabet_labels, digits_labels])"
      ],
      "metadata": {
        "id": "Rj3TmR2ZQuY3"
      },
      "execution_count": 20,
      "outputs": []
    },
    {
      "cell_type": "code",
      "source": [
        "# Check the shape\n",
        "data.shape, labels.shape"
      ],
      "metadata": {
        "colab": {
          "base_uri": "https://localhost:8080/"
        },
        "id": "IQvyq73BQx5_",
        "outputId": "6b7d6869-3953-4105-d748-f36e22c78c63"
      },
      "execution_count": 21,
      "outputs": [
        {
          "output_type": "execute_result",
          "data": {
            "text/plain": [
              "((442450, 28, 28), (442450,))"
            ]
          },
          "metadata": {},
          "execution_count": 21
        }
      ]
    },
    {
      "cell_type": "code",
      "source": [
        "# Check labels\n",
        "np.unique(labels)"
      ],
      "metadata": {
        "colab": {
          "base_uri": "https://localhost:8080/"
        },
        "id": "0ykKAnxMQz2n",
        "outputId": "7aa6a1b3-3ac0-48f7-a154-eee4596d2316"
      },
      "execution_count": 22,
      "outputs": [
        {
          "output_type": "execute_result",
          "data": {
            "text/plain": [
              "array([ 0.,  1.,  2.,  3.,  4.,  5.,  6.,  7.,  8.,  9., 10., 11., 12.,\n",
              "       13., 14., 15., 16., 17., 18., 19., 20., 21., 22., 23., 24., 25.,\n",
              "       26., 27., 28., 29., 30., 31., 32., 33., 34., 35.], dtype=float32)"
            ]
          },
          "metadata": {},
          "execution_count": 22
        }
      ]
    },
    {
      "cell_type": "code",
      "source": [
        "\n",
        "# Convert data to float32\n",
        "data = np.array(data, dtype = 'float32')\n"
      ],
      "metadata": {
        "id": "3zL06IogQ12L"
      },
      "execution_count": 23,
      "outputs": []
    },
    {
      "cell_type": "code",
      "source": [
        "# Since Convolutional need 3d data (including depth)\n",
        "# and our images only in 2d data (because in grayscale format)\n",
        "# we need to add \"the depth\" to the data\n",
        "data = np.expand_dims(data, axis=-1)\n",
        "\n",
        "# check shape\n",
        "data.shape"
      ],
      "metadata": {
        "colab": {
          "base_uri": "https://localhost:8080/"
        },
        "id": "eCax5DJ2Q5uK",
        "outputId": "3848b97c-8526-45f7-e5ce-c7c7cd46b1dc"
      },
      "execution_count": 24,
      "outputs": [
        {
          "output_type": "execute_result",
          "data": {
            "text/plain": [
              "(442450, 28, 28, 1)"
            ]
          },
          "metadata": {},
          "execution_count": 24
        }
      ]
    },
    {
      "cell_type": "code",
      "source": [
        "# Normalize data\n",
        "data /= 255.0\n"
      ],
      "metadata": {
        "id": "hcTvO5N6Q8Uj"
      },
      "execution_count": 25,
      "outputs": []
    },
    {
      "cell_type": "code",
      "source": [
        "\n",
        "# Check range value of data\n",
        "data[0].min(), data[0].max()\n"
      ],
      "metadata": {
        "colab": {
          "base_uri": "https://localhost:8080/"
        },
        "id": "YZTCceeAQ9QS",
        "outputId": "b361a895-2cf6-438e-d3fa-76b364afe52c"
      },
      "execution_count": 26,
      "outputs": [
        {
          "output_type": "execute_result",
          "data": {
            "text/plain": [
              "(0.0, 1.0)"
            ]
          },
          "metadata": {},
          "execution_count": 26
        }
      ]
    },
    {
      "cell_type": "code",
      "source": [
        "# Enconde the labels\n",
        "# LabelBinarizer similar with OneHotEncoder\n",
        "le = LabelBinarizer()\n",
        "labels = le.fit_transform(labels)\n"
      ],
      "metadata": {
        "id": "ZEW_rDa_Q_Xo"
      },
      "execution_count": 27,
      "outputs": []
    },
    {
      "cell_type": "code",
      "source": [
        "# Check labels shape\n",
        "labels.shape\n"
      ],
      "metadata": {
        "colab": {
          "base_uri": "https://localhost:8080/"
        },
        "id": "ye8owbPiRCPu",
        "outputId": "b426a205-a7ef-4dff-8531-ff362dccae60"
      },
      "execution_count": 28,
      "outputs": [
        {
          "output_type": "execute_result",
          "data": {
            "text/plain": [
              "(442450, 36)"
            ]
          },
          "metadata": {},
          "execution_count": 28
        }
      ]
    },
    {
      "cell_type": "code",
      "source": [
        "\n",
        "# Check data with label binarizer's label\n",
        "plt.imshow(data[30000].reshape(28,28), cmap='gray')\n",
        "plt.title(str(labels[0]))"
      ],
      "metadata": {
        "colab": {
          "base_uri": "https://localhost:8080/",
          "height": 469
        },
        "id": "LRuKcJxVREfR",
        "outputId": "184befac-f0fc-4969-d360-430fb3fcb5ed"
      },
      "execution_count": 29,
      "outputs": [
        {
          "output_type": "execute_result",
          "data": {
            "text/plain": [
              "Text(0.5, 1.0, '[0 0 0 0 0 0 0 0 0 0 1 0 0 0 0 0 0 0 0 0 0 0 0 0 0 0 0 0 0 0 0 0 0 0 0 0]')"
            ]
          },
          "metadata": {},
          "execution_count": 29
        },
        {
          "output_type": "display_data",
          "data": {
            "text/plain": [
              "<Figure size 640x480 with 1 Axes>"
            ],
            "image/png": "[encoded data removed]"
          },
          "metadata": {}
        }
      ]
    },
    {
      "cell_type": "code",
      "source": [
        "# Since our data is not balance, we will handle it by giving weight for 'small' data\n",
        "\n",
        "# Check number of data for each labels first\n",
        "classes_total = labels.sum(axis = 0)\n",
        "classes_total"
      ],
      "metadata": {
        "colab": {
          "base_uri": "https://localhost:8080/"
        },
        "id": "V7MDSuKORGne",
        "outputId": "7b651ffc-2f67-4153-e158-172dba14f68d"
      },
      "execution_count": 30,
      "outputs": [
        {
          "output_type": "execute_result",
          "data": {
            "text/plain": [
              "array([ 6903,  7877,  6990,  7141,  6824,  6313,  6876,  7293,  6825,\n",
              "        6958, 13869,  8668, 23409, 10134, 11440,  1163,  5762,  7218,\n",
              "        1120,  8493,  5603, 11586, 12336, 19010, 57825, 19341,  5812,\n",
              "       11566, 48419, 22495, 29008,  4182, 10784,  6272, 10859,  6076])"
            ]
          },
          "metadata": {},
          "execution_count": 30
        }
      ]
    },
    {
      "cell_type": "code",
      "source": [
        "# Check the biggest value of data\n",
        "classes_total.max()\n"
      ],
      "metadata": {
        "colab": {
          "base_uri": "https://localhost:8080/"
        },
        "id": "cgrsW3omRKdm",
        "outputId": "4963e549-3b65-4356-e8e6-e08b9cd67bc0"
      },
      "execution_count": 31,
      "outputs": [
        {
          "output_type": "execute_result",
          "data": {
            "text/plain": [
              "57825"
            ]
          },
          "metadata": {},
          "execution_count": 31
        }
      ]
    },
    {
      "cell_type": "code",
      "source": [
        "# Create a weight for each data\n",
        "classes_weights = {}\n",
        "for i in range(0, len(classes_total)):\n",
        "  #print(i)\n",
        "  classes_weights[i] = classes_total.max() / classes_total[i]\n",
        "\n",
        "# Check the weight for each data\n",
        "classes_weights"
      ],
      "metadata": {
        "colab": {
          "base_uri": "https://localhost:8080/"
        },
        "id": "MWeNywCmRN9d",
        "outputId": "8f0a5352-8c0d-4e88-dc48-5156c16518a8"
      },
      "execution_count": 32,
      "outputs": [
        {
          "output_type": "execute_result",
          "data": {
            "text/plain": [
              "{0: 8.376792698826597,\n",
              " 1: 7.340992763742541,\n",
              " 2: 8.272532188841202,\n",
              " 3: 8.097605377398123,\n",
              " 4: 8.473769050410317,\n",
              " 5: 9.15967052114684,\n",
              " 6: 8.409685863874346,\n",
              " 7: 7.928835870012341,\n",
              " 8: 8.472527472527473,\n",
              " 9: 8.310577752227651,\n",
              " 10: 4.169370538611291,\n",
              " 11: 6.671089063221043,\n",
              " 12: 2.4702037677816224,\n",
              " 13: 5.7060390763765545,\n",
              " 14: 5.0546328671328675,\n",
              " 15: 49.72055030094583,\n",
              " 16: 10.035577924331829,\n",
              " 17: 8.011221945137157,\n",
              " 18: 51.629464285714285,\n",
              " 19: 6.808548216178029,\n",
              " 20: 10.320364090665715,\n",
              " 21: 4.990937338166753,\n",
              " 22: 4.6875,\n",
              " 23: 3.0418200946870066,\n",
              " 24: 1.0,\n",
              " 25: 2.989762680316426,\n",
              " 26: 9.94924294562973,\n",
              " 27: 4.999567698426422,\n",
              " 28: 1.1942625828703608,\n",
              " 29: 2.5705712380529007,\n",
              " 30: 1.993415609487038,\n",
              " 31: 13.827116212338593,\n",
              " 32: 5.362110534124629,\n",
              " 33: 9.21954719387755,\n",
              " 34: 5.3250759738465785,\n",
              " 35: 9.51695194206715}"
            ]
          },
          "metadata": {},
          "execution_count": 32
        }
      ]
    },
    {
      "cell_type": "code",
      "source": [
        "X_train, X_test, y_train, y_test = train_test_split(data, labels, test_size = 0.2, random_state = 1, stratify = labels)\n"
      ],
      "metadata": {
        "id": "_Qw8xRbfRU4G"
      },
      "execution_count": 33,
      "outputs": []
    },
    {
      "cell_type": "code",
      "source": [
        "# Import library\n",
        "from tensorflow.keras.preprocessing.image import ImageDataGenerator"
      ],
      "metadata": {
        "id": "6-MDcazERflS"
      },
      "execution_count": 34,
      "outputs": []
    },
    {
      "cell_type": "code",
      "source": [
        "augmentation = ImageDataGenerator(rotation_range = 10, zoom_range=0.05, width_shift_range=0.1,\n",
        "                                  height_shift_range=0.1, horizontal_flip = False)"
      ],
      "metadata": {
        "id": "mnl89yJxRgd9"
      },
      "execution_count": 35,
      "outputs": []
    },
    {
      "cell_type": "code",
      "source": [
        "# Import library\n",
        "from tensorflow.keras.models import Sequential\n",
        "from tensorflow.keras.layers import Conv2D, MaxPool2D, Flatten, Dense\n",
        "from tensorflow.keras.callbacks import ModelCheckpoint"
      ],
      "metadata": {
        "id": "jRxS5i-eW5Yn"
      },
      "execution_count": 36,
      "outputs": []
    },
    {
      "cell_type": "code",
      "source": [
        "# Build the network\n",
        "model = Sequential()\n",
        "\n",
        "model.add(Conv2D(filters = 32, kernel_size=(3,3), activation='relu', input_shape=(28,28,1)))\n",
        "model.add(MaxPool2D(pool_size=(2,2)))\n",
        "\n",
        "model.add(Conv2D(filters = 64, kernel_size=(3,3), activation='relu', padding = 'same'))\n",
        "model.add(MaxPool2D(pool_size=(2,2)))\n",
        "\n",
        "model.add(Conv2D(filters = 64, kernel_size=(3,3), activation='relu', padding = 'valid'))\n",
        "model.add(MaxPool2D(pool_size=(2,2)))\n",
        "\n",
        "model.add(Flatten())\n",
        "\n",
        "model.add(Dense(64, activation = 'relu'))\n",
        "model.add(Dense(128, activation = 'relu'))\n",
        "\n",
        "model.add(Dense(36, activation='softmax'))\n",
        "\n",
        "model.compile(loss = 'categorical_crossentropy', optimizer = 'rmsprop', metrics = ['accuracy'])"
      ],
      "metadata": {
        "id": "C5n-jaESRjcZ"
      },
      "execution_count": 37,
      "outputs": []
    },
    {
      "cell_type": "code",
      "source": [
        "# Check network summary\n",
        "model.summary()"
      ],
      "metadata": {
        "colab": {
          "base_uri": "https://localhost:8080/"
        },
        "id": "OgN1AVjDSAe7",
        "outputId": "72a1d617-5720-4f25-e143-348106c2cecf"
      },
      "execution_count": 38,
      "outputs": [
        {
          "output_type": "stream",
          "name": "stdout",
          "text": [
            "Model: \"sequential\"\n",
            "_________________________________________________________________\n",
            " Layer (type)                Output Shape              Param #   \n",
            "=================================================================\n",
            " conv2d (Conv2D)             (None, 26, 26, 32)        320       \n",
            "                                                                 \n",
            " max_pooling2d (MaxPooling2  (None, 13, 13, 32)        0         \n",
            " D)                                                              \n",
            "                                                                 \n",
            " conv2d_1 (Conv2D)           (None, 13, 13, 64)        18496     \n",
            "                                                                 \n",
            " max_pooling2d_1 (MaxPoolin  (None, 6, 6, 64)          0         \n",
            " g2D)                                                            \n",
            "                                                                 \n",
            " conv2d_2 (Conv2D)           (None, 4, 4, 64)          36928     \n",
            "                                                                 \n",
            " max_pooling2d_2 (MaxPoolin  (None, 2, 2, 64)          0         \n",
            " g2D)                                                            \n",
            "                                                                 \n",
            " flatten (Flatten)           (None, 256)               0         \n",
            "                                                                 \n",
            " dense (Dense)               (None, 64)                16448     \n",
            "                                                                 \n",
            " dense_1 (Dense)             (None, 128)               8320      \n",
            "                                                                 \n",
            " dense_2 (Dense)             (None, 36)                4644      \n",
            "                                                                 \n",
            "=================================================================\n",
            "Total params: 85156 (332.64 KB)\n",
            "Trainable params: 85156 (332.64 KB)\n",
            "Non-trainable params: 0 (0.00 Byte)\n",
            "_________________________________________________________________\n"
          ]
        }
      ]
    },
    {
      "cell_type": "code",
      "source": [
        "# Create actual labels\n",
        "name_labels = '0123456789'\n",
        "name_labels += 'ABCDEFGHIJKLMNOPQRSTUVWXYZ'\n",
        "name_labels = [l for l in name_labels]\n",
        "\n",
        "# Check actual label\n",
        "print(name_labels)"
      ],
      "metadata": {
        "colab": {
          "base_uri": "https://localhost:8080/"
        },
        "id": "yB-Ynvl-SDnZ",
        "outputId": "847f6556-dd10-4ed7-ad3d-1c06861c3054"
      },
      "execution_count": 39,
      "outputs": [
        {
          "output_type": "stream",
          "name": "stdout",
          "text": [
            "['0', '1', '2', '3', '4', '5', '6', '7', '8', '9', 'A', 'B', 'C', 'D', 'E', 'F', 'G', 'H', 'I', 'J', 'K', 'L', 'M', 'N', 'O', 'P', 'Q', 'R', 'S', 'T', 'U', 'V', 'W', 'X', 'Y', 'Z']\n"
          ]
        }
      ]
    },
    {
      "cell_type": "code",
      "source": [
        "# Set model name, epoch, and batch size\n",
        "file_model = 'custom_ocr.model'\n",
        "epochs = 20\n",
        "batch_size = 128\n"
      ],
      "metadata": {
        "id": "JelS-VrSSHEG"
      },
      "execution_count": 40,
      "outputs": []
    },
    {
      "cell_type": "code",
      "source": [
        "# Setup checkpoint\n",
        "from tensorflow.keras.callbacks import ModelCheckpoint\n",
        "checkpointer = ModelCheckpoint(file_model, monitor = 'val_loss', verbose = 1, save_best_only=True)"
      ],
      "metadata": {
        "id": "ANAelhFTSNEu"
      },
      "execution_count": 41,
      "outputs": []
    },
    {
      "cell_type": "code",
      "source": [
        "# Fit the model\n",
        "history = model.fit(augmentation.flow(X_train, y_train, batch_size=batch_size),\n",
        "                      validation_data = (X_test, y_test),\n",
        "                      steps_per_epoch = len(X_train) // batch_size, epochs=epochs,\n",
        "                      class_weight = classes_weights, verbose=1, callbacks=[checkpointer])"
      ],
      "metadata": {
        "colab": {
          "base_uri": "https://localhost:8080/"
        },
        "id": "iGfCmFuySfYV",
        "outputId": "2724c3c9-64e0-4c11-dda4-2c9cd4256c15"
      },
      "execution_count": 42,
      "outputs": [
        {
          "output_type": "stream",
          "name": "stdout",
          "text": [
            "Epoch 1/20\n",
            "2764/2765 [============================>.] - ETA: 0s - loss: 2.5203 - accuracy: 0.8037\n",
            "Epoch 1: val_loss improved from inf to 0.23699, saving model to custom_ocr.model\n",
            "2765/2765 [==============================] - 128s 42ms/step - loss: 2.5196 - accuracy: 0.8037 - val_loss: 0.2370 - val_accuracy: 0.9020\n",
            "Epoch 2/20\n",
            "2765/2765 [==============================] - ETA: 0s - loss: 0.9895 - accuracy: 0.9014\n",
            "Epoch 2: val_loss improved from 0.23699 to 0.19214, saving model to custom_ocr.model\n",
            "2765/2765 [==============================] - 134s 48ms/step - loss: 0.9895 - accuracy: 0.9014 - val_loss: 0.1921 - val_accuracy: 0.9261\n",
            "Epoch 3/20\n",
            "2765/2765 [==============================] - ETA: 0s - loss: 0.8303 - accuracy: 0.9142\n",
            "Epoch 3: val_loss did not improve from 0.19214\n",
            "2765/2765 [==============================] - 123s 44ms/step - loss: 0.8303 - accuracy: 0.9142 - val_loss: 0.4264 - val_accuracy: 0.8231\n",
            "Epoch 4/20\n",
            "2764/2765 [============================>.] - ETA: 0s - loss: 0.7616 - accuracy: 0.9199\n",
            "Epoch 4: val_loss did not improve from 0.19214\n",
            "2765/2765 [==============================] - 124s 45ms/step - loss: 0.7617 - accuracy: 0.9199 - val_loss: 0.2905 - val_accuracy: 0.8790\n",
            "Epoch 5/20\n",
            "2765/2765 [==============================] - ETA: 0s - loss: 0.7594 - accuracy: 0.9206\n",
            "Epoch 5: val_loss did not improve from 0.19214\n",
            "2765/2765 [==============================] - 118s 43ms/step - loss: 0.7594 - accuracy: 0.9206 - val_loss: 0.6990 - val_accuracy: 0.7556\n",
            "Epoch 6/20\n",
            "2764/2765 [============================>.] - ETA: 0s - loss: 0.7531 - accuracy: 0.9216\n",
            "Epoch 6: val_loss did not improve from 0.19214\n",
            "2765/2765 [==============================] - 116s 42ms/step - loss: 0.7532 - accuracy: 0.9216 - val_loss: 0.3101 - val_accuracy: 0.8707\n",
            "Epoch 7/20\n",
            "2764/2765 [============================>.] - ETA: 0s - loss: 0.7527 - accuracy: 0.9228\n",
            "Epoch 7: val_loss did not improve from 0.19214\n",
            "2765/2765 [==============================] - 120s 43ms/step - loss: 0.7527 - accuracy: 0.9228 - val_loss: 0.3582 - val_accuracy: 0.8507\n",
            "Epoch 8/20\n",
            "2765/2765 [==============================] - ETA: 0s - loss: 0.7666 - accuracy: 0.9222\n",
            "Epoch 8: val_loss did not improve from 0.19214\n",
            "2765/2765 [==============================] - 122s 44ms/step - loss: 0.7666 - accuracy: 0.9222 - val_loss: 0.3686 - val_accuracy: 0.9275\n",
            "Epoch 9/20\n",
            "2765/2765 [==============================] - ETA: 0s - loss: 0.7868 - accuracy: 0.9225\n",
            "Epoch 9: val_loss did not improve from 0.19214\n",
            "2765/2765 [==============================] - 119s 43ms/step - loss: 0.7868 - accuracy: 0.9225 - val_loss: 1.0175 - val_accuracy: 0.8975\n",
            "Epoch 10/20\n",
            "2765/2765 [==============================] - ETA: 0s - loss: 0.8192 - accuracy: 0.9225\n",
            "Epoch 10: val_loss did not improve from 0.19214\n",
            "2765/2765 [==============================] - 117s 42ms/step - loss: 0.8192 - accuracy: 0.9225 - val_loss: 5.4489 - val_accuracy: 0.8543\n",
            "Epoch 11/20\n",
            "2765/2765 [==============================] - ETA: 0s - loss: 0.8329 - accuracy: 0.9216\n",
            "Epoch 11: val_loss did not improve from 0.19214\n",
            "2765/2765 [==============================] - 123s 45ms/step - loss: 0.8329 - accuracy: 0.9216 - val_loss: 8.5019 - val_accuracy: 0.8304\n",
            "Epoch 12/20\n",
            "2764/2765 [============================>.] - ETA: 0s - loss: 0.8517 - accuracy: 0.9202\n",
            "Epoch 12: val_loss did not improve from 0.19214\n",
            "2765/2765 [==============================] - 119s 43ms/step - loss: 0.8519 - accuracy: 0.9202 - val_loss: 0.7153 - val_accuracy: 0.8662\n",
            "Epoch 13/20\n",
            "2765/2765 [==============================] - ETA: 0s - loss: 0.8904 - accuracy: 0.9189\n",
            "Epoch 13: val_loss did not improve from 0.19214\n",
            "2765/2765 [==============================] - 117s 42ms/step - loss: 0.8904 - accuracy: 0.9189 - val_loss: 5.0872 - val_accuracy: 0.8733\n",
            "Epoch 14/20\n",
            "2765/2765 [==============================] - ETA: 0s - loss: 0.9136 - accuracy: 0.9186\n",
            "Epoch 14: val_loss did not improve from 0.19214\n",
            "2765/2765 [==============================] - 122s 44ms/step - loss: 0.9136 - accuracy: 0.9186 - val_loss: 0.3979 - val_accuracy: 0.9416\n",
            "Epoch 15/20\n",
            "2765/2765 [==============================] - ETA: 0s - loss: 0.9184 - accuracy: 0.9190\n",
            "Epoch 15: val_loss did not improve from 0.19214\n",
            "2765/2765 [==============================] - 120s 44ms/step - loss: 0.9184 - accuracy: 0.9190 - val_loss: 0.9086 - val_accuracy: 0.9124\n",
            "Epoch 16/20\n",
            "2764/2765 [============================>.] - ETA: 0s - loss: 0.9221 - accuracy: 0.9196\n",
            "Epoch 16: val_loss did not improve from 0.19214\n",
            "2765/2765 [==============================] - 121s 44ms/step - loss: 0.9226 - accuracy: 0.9196 - val_loss: 34.7254 - val_accuracy: 0.7489\n",
            "Epoch 17/20\n",
            "2764/2765 [============================>.] - ETA: 0s - loss: 0.9475 - accuracy: 0.9181\n",
            "Epoch 17: val_loss did not improve from 0.19214\n",
            "2765/2765 [==============================] - 115s 41ms/step - loss: 0.9474 - accuracy: 0.9181 - val_loss: 0.5106 - val_accuracy: 0.9246\n",
            "Epoch 18/20\n",
            "2765/2765 [==============================] - ETA: 0s - loss: 0.9334 - accuracy: 0.9186\n",
            "Epoch 18: val_loss did not improve from 0.19214\n",
            "2765/2765 [==============================] - 117s 42ms/step - loss: 0.9334 - accuracy: 0.9186 - val_loss: 1.0717 - val_accuracy: 0.8790\n",
            "Epoch 19/20\n",
            "2765/2765 [==============================] - ETA: 0s - loss: 0.9502 - accuracy: 0.9181\n",
            "Epoch 19: val_loss did not improve from 0.19214\n",
            "2765/2765 [==============================] - 119s 43ms/step - loss: 0.9502 - accuracy: 0.9181 - val_loss: 3.8461 - val_accuracy: 0.8955\n",
            "Epoch 20/20\n",
            "2765/2765 [==============================] - ETA: 0s - loss: 0.9452 - accuracy: 0.9174\n",
            "Epoch 20: val_loss did not improve from 0.19214\n",
            "2765/2765 [==============================] - 123s 44ms/step - loss: 0.9452 - accuracy: 0.9174 - val_loss: 0.5786 - val_accuracy: 0.9362\n"
          ]
        }
      ]
    },
    {
      "cell_type": "code",
      "source": [
        "from tensorflow.keras.models import Sequential\n",
        "from tensorflow.keras.layers import Dense\n",
        "from sklearn.model_selection import train_test_split\n",
        "from sklearn.preprocessing import StandardScaler\n",
        "import numpy as np\n",
        "\n",
        "# Example data\n",
        "np.random.seed(42)\n",
        "X = np.random.rand(1000, 10)  # 1000 samples, each with 10 features\n",
        "y = np.random.randint(2, size=(1000,))  # Binary labels\n",
        "\n",
        "# Split the data into training and test sets\n",
        "X_train, X_test, y_train, y_test = train_test_split(X, y, test_size=0.2, random_state=42)\n",
        "\n",
        "# Standardize the data (optional but often beneficial)\n",
        "scaler = StandardScaler()\n",
        "X_train = scaler.fit_transform(X_train)\n",
        "X_test = scaler.transform(X_test)\n",
        "\n",
        "# Define your neural network architecture\n",
        "input_size = 10  # Number of features in your input data\n",
        "output_size = 1  # Binary classification, so the output is a single value\n",
        "\n",
        "network = Sequential()\n",
        "network.add(Dense(units=64, activation='relu', input_shape=(input_size,)))\n",
        "network.add(Dense(units=32, activation='relu'))\n",
        "network.add(Dense(units=output_size, activation='sigmoid'))  # Sigmoid activation for binary classification\n",
        "\n",
        "# Compile the model\n",
        "network.compile(optimizer='adam', loss='binary_crossentropy', metrics=['accuracy'])\n",
        "\n",
        "# Train the model\n",
        "network.fit(X_train, y_train, epochs=10, batch_size=32, validation_split=0.2)\n",
        "\n",
        "# Now you can make predictions\n",
        "predictions = network.predict(X_test, batch_size=32)\n"
      ],
      "metadata": {
        "id": "wiABh0O0mx_O",
        "colab": {
          "base_uri": "https://localhost:8080/"
        },
        "outputId": "9875b920-edd6-449d-b4d6-bac17d5fae03"
      },
      "execution_count": 50,
      "outputs": [
        {
          "output_type": "stream",
          "name": "stdout",
          "text": [
            "Epoch 1/10\n",
            "20/20 [==============================] - 4s 11ms/step - loss: 0.7217 - accuracy: 0.4969 - val_loss: 0.6914 - val_accuracy: 0.5500\n",
            "Epoch 2/10\n",
            "20/20 [==============================] - 0s 4ms/step - loss: 0.6890 - accuracy: 0.5500 - val_loss: 0.6916 - val_accuracy: 0.5375\n",
            "Epoch 3/10\n",
            "20/20 [==============================] - 0s 5ms/step - loss: 0.6789 - accuracy: 0.5688 - val_loss: 0.6877 - val_accuracy: 0.5375\n",
            "Epoch 4/10\n",
            "20/20 [==============================] - 0s 5ms/step - loss: 0.6712 - accuracy: 0.6062 - val_loss: 0.6881 - val_accuracy: 0.5437\n",
            "Epoch 5/10\n",
            "20/20 [==============================] - 0s 4ms/step - loss: 0.6649 - accuracy: 0.6203 - val_loss: 0.6890 - val_accuracy: 0.5375\n",
            "Epoch 6/10\n",
            "20/20 [==============================] - 0s 4ms/step - loss: 0.6580 - accuracy: 0.6266 - val_loss: 0.6904 - val_accuracy: 0.5437\n",
            "Epoch 7/10\n",
            "20/20 [==============================] - 0s 5ms/step - loss: 0.6530 - accuracy: 0.6406 - val_loss: 0.6908 - val_accuracy: 0.5562\n",
            "Epoch 8/10\n",
            "20/20 [==============================] - 0s 5ms/step - loss: 0.6472 - accuracy: 0.6484 - val_loss: 0.6925 - val_accuracy: 0.5375\n",
            "Epoch 9/10\n",
            "20/20 [==============================] - 0s 4ms/step - loss: 0.6424 - accuracy: 0.6469 - val_loss: 0.6924 - val_accuracy: 0.5500\n",
            "Epoch 10/10\n",
            "20/20 [==============================] - 0s 5ms/step - loss: 0.6366 - accuracy: 0.6797 - val_loss: 0.6932 - val_accuracy: 0.5312\n",
            "7/7 [==============================] - 0s 2ms/step\n"
          ]
        }
      ]
    },
    {
      "cell_type": "code",
      "source": [
        "# Check prediction for data-0\n",
        "# You will get the probability for each label\n",
        "# The highest one is the prediction\n",
        "predictions[1]\n"
      ],
      "metadata": {
        "id": "R_P3zwvVnR3O",
        "colab": {
          "base_uri": "https://localhost:8080/"
        },
        "outputId": "238f342c-e47a-428c-8520-dc4a3cfa9da0"
      },
      "execution_count": 51,
      "outputs": [
        {
          "output_type": "execute_result",
          "data": {
            "text/plain": [
              "array([0.528232], dtype=float32)"
            ]
          },
          "metadata": {},
          "execution_count": 51
        }
      ]
    },
    {
      "cell_type": "code",
      "source": [
        "# Get the actual prediction -> highest probability\n",
        "np.argmax(predictions[1])"
      ],
      "metadata": {
        "id": "DSnYx9sJnVFh",
        "colab": {
          "base_uri": "https://localhost:8080/"
        },
        "outputId": "b3c84bdd-763f-4b28-830f-0df866502309"
      },
      "execution_count": 52,
      "outputs": [
        {
          "output_type": "execute_result",
          "data": {
            "text/plain": [
              "0"
            ]
          },
          "metadata": {},
          "execution_count": 52
        }
      ]
    },
    {
      "cell_type": "code",
      "source": [
        "# Check label for 24\n",
        "name_labels[18]"
      ],
      "metadata": {
        "id": "ip_hj1NFnWdE",
        "colab": {
          "base_uri": "https://localhost:8080/",
          "height": 35
        },
        "outputId": "1ac233da-bce5-46d1-accd-c33853c4d247"
      },
      "execution_count": 53,
      "outputs": [
        {
          "output_type": "execute_result",
          "data": {
            "text/plain": [
              "'I'"
            ],
            "application/vnd.google.colaboratory.intrinsic+json": {
              "type": "string"
            }
          },
          "metadata": {},
          "execution_count": 53
        }
      ]
    },
    {
      "cell_type": "code",
      "source": [
        "# Check y_test label for 0\n",
        "y_test[1]"
      ],
      "metadata": {
        "id": "nQPzeL8nnbb-",
        "colab": {
          "base_uri": "https://localhost:8080/"
        },
        "outputId": "fe71a981-9db3-4876-ca18-0b38a5b37eb1"
      },
      "execution_count": 54,
      "outputs": [
        {
          "output_type": "execute_result",
          "data": {
            "text/plain": [
              "1"
            ]
          },
          "metadata": {},
          "execution_count": 54
        }
      ]
    },
    {
      "cell_type": "code",
      "source": [
        "# check the highest value\n",
        "np.argmax(y_test[1])\n"
      ],
      "metadata": {
        "id": "hZUmUrrendA8",
        "colab": {
          "base_uri": "https://localhost:8080/"
        },
        "outputId": "9d4908e2-2205-40ed-f5a0-7b1ad0502476"
      },
      "execution_count": 55,
      "outputs": [
        {
          "output_type": "execute_result",
          "data": {
            "text/plain": [
              "0"
            ]
          },
          "metadata": {},
          "execution_count": 55
        }
      ]
    },
    {
      "cell_type": "code",
      "source": [
        "# Check the label of y_test 0\n",
        "name_labels[np.argmax(y_test[18])]"
      ],
      "metadata": {
        "id": "yHshKYSGneo7",
        "colab": {
          "base_uri": "https://localhost:8080/",
          "height": 35
        },
        "outputId": "d32a38bc-e798-491e-8853-1742169ac868"
      },
      "execution_count": 56,
      "outputs": [
        {
          "output_type": "execute_result",
          "data": {
            "text/plain": [
              "'0'"
            ],
            "application/vnd.google.colaboratory.intrinsic+json": {
              "type": "string"
            }
          },
          "metadata": {},
          "execution_count": 56
        }
      ]
    },
    {
      "cell_type": "markdown",
      "source": [
        "Make an evaluation on data"
      ],
      "metadata": {
        "id": "SbkJvS96nfvf"
      }
    },
    {
      "cell_type": "code",
      "source": [
        "# Evaluate on test data\n",
        "network.evaluate(X_test, y_test)"
      ],
      "metadata": {
        "id": "DzrMemhcnhRs",
        "colab": {
          "base_uri": "https://localhost:8080/"
        },
        "outputId": "144b2d6a-08bd-49fe-8f31-a5e7f760af67"
      },
      "execution_count": 57,
      "outputs": [
        {
          "output_type": "stream",
          "name": "stdout",
          "text": [
            "7/7 [==============================] - 0s 3ms/step - loss: 0.6869 - accuracy: 0.5250\n"
          ]
        },
        {
          "output_type": "execute_result",
          "data": {
            "text/plain": [
              "[0.6868656277656555, 0.5249999761581421]"
            ]
          },
          "metadata": {},
          "execution_count": 57
        }
      ]
    },
    {
      "cell_type": "code",
      "source": [
        "y_test = y_test.astype(int)\n",
        "predictions = predictions.astype(int)"
      ],
      "metadata": {
        "id": "ErRcd-bUa2TX"
      },
      "execution_count": 62,
      "outputs": []
    },
    {
      "cell_type": "code",
      "source": [
        "print(np.unique(y_test))\n",
        "print(np.unique(predictions))"
      ],
      "metadata": {
        "colab": {
          "base_uri": "https://localhost:8080/"
        },
        "id": "FFidYoFIa2K4",
        "outputId": "db60650a-0ef7-44a2-8bfa-ee51998fbb93"
      },
      "execution_count": 63,
      "outputs": [
        {
          "output_type": "stream",
          "name": "stdout",
          "text": [
            "[0 1]\n",
            "[0]\n"
          ]
        }
      ]
    },
    {
      "cell_type": "code",
      "source": [
        "print(y_test.shape)\n",
        "print(predictions.shape)"
      ],
      "metadata": {
        "colab": {
          "base_uri": "https://localhost:8080/"
        },
        "id": "8k8AZGiVa2Bj",
        "outputId": "66f82b05-7281-40c9-f6b8-d451a99ff9aa"
      },
      "execution_count": 64,
      "outputs": [
        {
          "output_type": "stream",
          "name": "stdout",
          "text": [
            "(200,)\n",
            "(200, 1)\n"
          ]
        }
      ]
    },
    {
      "cell_type": "code",
      "source": [
        "from sklearn.metrics import classification_report\n",
        "\n",
        "# Assuming y_test and predictions are 1D arrays of integers\n",
        "print(classification_report(y_test, predictions, target_names=name_labels))"
      ],
      "metadata": {
        "id": "j9GRbX-6niyE",
        "colab": {
          "base_uri": "https://localhost:8080/",
          "height": 333
        },
        "outputId": "9a62aece-0a63-419a-cd33-3d11233d4e70"
      },
      "execution_count": 67,
      "outputs": [
        {
          "output_type": "error",
          "ename": "ValueError",
          "evalue": "ignored",
          "traceback": [
            "\u001b[0;31m---------------------------------------------------------------------------\u001b[0m",
            "\u001b[0;31mValueError\u001b[0m                                Traceback (most recent call last)",
            "\u001b[0;32m<ipython-input-67-65b0d558e245>\u001b[0m in \u001b[0;36m<cell line: 4>\u001b[0;34m()\u001b[0m\n\u001b[1;32m      2\u001b[0m \u001b[0;34m\u001b[0m\u001b[0m\n\u001b[1;32m      3\u001b[0m \u001b[0;31m# Assuming y_test and predictions are 1D arrays of integers\u001b[0m\u001b[0;34m\u001b[0m\u001b[0;34m\u001b[0m\u001b[0m\n\u001b[0;32m----> 4\u001b[0;31m \u001b[0mprint\u001b[0m\u001b[0;34m(\u001b[0m\u001b[0mclassification_report\u001b[0m\u001b[0;34m(\u001b[0m\u001b[0my_test\u001b[0m\u001b[0;34m,\u001b[0m \u001b[0mpredictions\u001b[0m\u001b[0;34m,\u001b[0m \u001b[0mtarget_names\u001b[0m\u001b[0;34m=\u001b[0m\u001b[0mname_labels\u001b[0m\u001b[0;34m)\u001b[0m\u001b[0;34m)\u001b[0m\u001b[0;34m\u001b[0m\u001b[0;34m\u001b[0m\u001b[0m\n\u001b[0m",
            "\u001b[0;32m/usr/local/lib/python3.10/dist-packages/sklearn/metrics/_classification.py\u001b[0m in \u001b[0;36mclassification_report\u001b[0;34m(y_true, y_pred, labels, target_names, sample_weight, digits, output_dict, zero_division)\u001b[0m\n\u001b[1;32m   2330\u001b[0m             )\n\u001b[1;32m   2331\u001b[0m         \u001b[0;32melse\u001b[0m\u001b[0;34m:\u001b[0m\u001b[0;34m\u001b[0m\u001b[0;34m\u001b[0m\u001b[0m\n\u001b[0;32m-> 2332\u001b[0;31m             raise ValueError(\n\u001b[0m\u001b[1;32m   2333\u001b[0m                 \u001b[0;34m\"Number of classes, {0}, does not match size of \"\u001b[0m\u001b[0;34m\u001b[0m\u001b[0;34m\u001b[0m\u001b[0m\n\u001b[1;32m   2334\u001b[0m                 \u001b[0;34m\"target_names, {1}. Try specifying the labels \"\u001b[0m\u001b[0;34m\u001b[0m\u001b[0;34m\u001b[0m\u001b[0m\n",
            "\u001b[0;31mValueError\u001b[0m: Number of classes, 2, does not match size of target_names, 36. Try specifying the labels parameter"
          ]
        }
      ]
    },
    {
      "cell_type": "code",
      "source": [
        "# Visualize loss value for each epoch\n",
        "plt.plot(history.history['val_loss'])\n"
      ],
      "metadata": {
        "id": "2ETdfiLsnlxa"
      },
      "execution_count": null,
      "outputs": []
    },
    {
      "cell_type": "code",
      "source": [
        "# You can also check the another metrics\n",
        "history.history.keys()\n"
      ],
      "metadata": {
        "id": "cIbDWaNInmdy"
      },
      "execution_count": null,
      "outputs": []
    },
    {
      "cell_type": "code",
      "source": [
        "# Check the model performance by validation accuracy\n",
        "plt.plot(history.history['val_accuracy'])"
      ],
      "metadata": {
        "id": "A6BwWmCEnsVq"
      },
      "execution_count": null,
      "outputs": []
    },
    {
      "cell_type": "code",
      "source": [
        "SAVE THE MODEL"
      ],
      "metadata": {
        "id": "FC7aRxvznuGv"
      },
      "execution_count": null,
      "outputs": []
    },
    {
      "cell_type": "code",
      "source": [
        " The result will show in colab directory\n",
        "network.save('network', save_format= 'h5')\n"
      ],
      "metadata": {
        "id": "xXFD4wJRnvZt"
      },
      "execution_count": null,
      "outputs": []
    }
  ]
}