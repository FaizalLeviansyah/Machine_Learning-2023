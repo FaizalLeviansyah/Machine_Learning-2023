{
  "nbformat": 4,
  "nbformat_minor": 0,
  "metadata": {
    "colab": {
      "provenance": [],
      "gpuType": "T4",
      "authorship_tag": "ABX9TyOBd1UFZUv91EJhCf1RBgZL",
      "include_colab_link": true
    },
    "kernelspec": {
      "name": "python3",
      "display_name": "Python 3"
    },
    "language_info": {
      "name": "python"
    },
    "accelerator": "GPU"
  },
  "cells": [
    {
      "cell_type": "markdown",
      "metadata": {
        "id": "view-in-github",
        "colab_type": "text"
      },
      "source": [
        "<a href=\"https://colab.research.google.com/github/FaizalLeviansyah/Machine_Learning-2023/blob/main/Week_10_ML_Faizal_Lab_Work_Module10_Recurrent_Neural_Network(RNN).ipynb\" target=\"_parent\"><img src=\"https://colab.research.google.com/assets/colab-badge.svg\" alt=\"Open In Colab\"/></a>"
      ]
    },
    {
      "cell_type": "markdown",
      "source": [
        "# Praktikum 1\n",
        "**RNN untuk Analisis Sentimen**\n",
        "\n",
        "Setup\n"
      ],
      "metadata": {
        "id": "zRSjhAX5o541"
      }
    },
    {
      "cell_type": "code",
      "execution_count": null,
      "metadata": {
        "id": "XCaz0hX3or2X"
      },
      "outputs": [],
      "source": [
        "# impor matplotlib dan buat fungsi pembantu untuk memplot grafik:\n",
        "import numpy as np\n",
        "import tensorflow_datasets as tfds\n",
        "import tensorflow as tf\n",
        "\n",
        "tfds.disable_progress_bar()"
      ]
    },
    {
      "cell_type": "code",
      "source": [
        "import matplotlib.pyplot as plt\n",
        "\n",
        "def plot_graphs(history, metric):\n",
        "  plt.plot(history.history[metric])\n",
        "  plt.plot(history.history['val_'+metric], '')\n",
        "  plt.xlabel(\"Epochs\")\n",
        "  plt.ylabel(metric)\n",
        "  plt.legend([metric, 'val_'+metric])"
      ],
      "metadata": {
        "id": "dh-aSfkfpC5z"
      },
      "execution_count": null,
      "outputs": []
    },
    {
      "cell_type": "markdown",
      "source": [
        "Setup input pipeline\n",
        "Dataset ulasan film IMDB adalah kumpulan data klasifikasi biner—semua ulasan memiliki sentimen positif atau negatif.\n",
        "\n",
        "Download dataset menggunakan TFDS. Lihat loading text tutorial jika ingin me load data secara manual"
      ],
      "metadata": {
        "id": "1N1OE9NupFqq"
      }
    },
    {
      "cell_type": "code",
      "source": [
        "dataset, info = tfds.load('imdb_reviews', with_info=True,\n",
        "                          as_supervised=True)\n",
        "train_dataset, test_dataset = dataset['train'], dataset['test']\n",
        "\n",
        "train_dataset.element_spec"
      ],
      "metadata": {
        "id": "qnVxmhGepHlb",
        "colab": {
          "base_uri": "https://localhost:8080/"
        },
        "outputId": "8f95f3b8-75ac-4f85-ace1-6565025f87e6"
      },
      "execution_count": null,
      "outputs": [
        {
          "output_type": "stream",
          "name": "stdout",
          "text": [
            "Downloading and preparing dataset 80.23 MiB (download: 80.23 MiB, generated: Unknown size, total: 80.23 MiB) to /root/tensorflow_datasets/imdb_reviews/plain_text/1.0.0...\n",
            "Dataset imdb_reviews downloaded and prepared to /root/tensorflow_datasets/imdb_reviews/plain_text/1.0.0. Subsequent calls will reuse this data.\n"
          ]
        },
        {
          "output_type": "execute_result",
          "data": {
            "text/plain": [
              "(TensorSpec(shape=(), dtype=tf.string, name=None),\n",
              " TensorSpec(shape=(), dtype=tf.int64, name=None))"
            ]
          },
          "metadata": {},
          "execution_count": 3
        }
      ]
    },
    {
      "cell_type": "code",
      "source": [
        "# Awalnya ini mengembalikan dataset (teks, pasangan label):\n",
        "for example, label in train_dataset.take(1):\n",
        "  print('text: ', example.numpy())\n",
        "  print('label: ', label.numpy())"
      ],
      "metadata": {
        "id": "dRGEKtvipM_7",
        "colab": {
          "base_uri": "https://localhost:8080/"
        },
        "outputId": "73282fb8-7da6-4cf2-94ed-f00663189912"
      },
      "execution_count": null,
      "outputs": [
        {
          "output_type": "stream",
          "name": "stdout",
          "text": [
            "text:  b\"This was an absolutely terrible movie. Don't be lured in by Christopher Walken or Michael Ironside. Both are great actors, but this must simply be their worst role in history. Even their great acting could not redeem this movie's ridiculous storyline. This movie is an early nineties US propaganda piece. The most pathetic scenes were those when the Columbian rebels were making their cases for revolutions. Maria Conchita Alonso appeared phony, and her pseudo-love affair with Walken was nothing but a pathetic emotional plug in a movie that was devoid of any real meaning. I am disappointed that there are movies like this, ruining actor's like Christopher Walken's good name. I could barely sit through it.\"\n",
            "label:  0\n"
          ]
        }
      ]
    },
    {
      "cell_type": "code",
      "source": [
        "# Berikutnya acak data untuk pelatihan dan membuat kumpulan pasangan (teks, label) ini:\n",
        "BUFFER_SIZE = 10000\n",
        "BATCH_SIZE = 64\n",
        "\n",
        "train_dataset = train_dataset.shuffle(BUFFER_SIZE).batch(BATCH_SIZE).prefetch(tf.data.AUTOTUNE)\n",
        "test_dataset = test_dataset.batch(BATCH_SIZE).prefetch(tf.data.AUTOTUNE)\n",
        "\n",
        "for example, label in train_dataset.take(1):\n",
        "  print('texts: ', example.numpy()[:3])\n",
        "  print()\n",
        "  print('labels: ', label.numpy()[:3])"
      ],
      "metadata": {
        "id": "GD7GjsIFpPO7",
        "colab": {
          "base_uri": "https://localhost:8080/"
        },
        "outputId": "8b158707-8cd9-4cb4-ec0f-4d0e23c6b15c"
      },
      "execution_count": null,
      "outputs": [
        {
          "output_type": "stream",
          "name": "stdout",
          "text": [
            "texts:  [b'Having not seen all the films released in 2002, I can\\'t say that this is the best film of the year. I can say that it is the best film I have seen all year. <br /><br />Most American films featuring black people either obsess over the American preoccupation with \"race relations\", or fall into the cliches of the inner city ghetto, with every sterotype imaginable spouting ebonic-phrased slang. Antwone Fisher stands proudly alone in this regard: race is irrelevant, save for one fight that may, or may not, have been provoked by a racial slur.<br /><br />Antwone Fisher\\'s story is one that should find resonance with any empathic individual. He is understatedly, and thoughtfully, portrayed by Derek Luke. Denzel Washington, while obviously using his star power to have the film made, sticks to the background for the most part, and allows the film to be the Antwone Fisher story. <br /><br />At a time when BET, and popular culture in general want to maintain the ghetoization of a large number of Americans (and Canadians too, you know), this is a film that speaks to the humanity in all of us. I just hope that the non-Black audience will go see this film for that humanity, rather than avoiding it because they feel that there are no characters or actors in the movie whom they can identify with. That would be a sad commentary on race-relations in North America in and of itself. <br /><br />'\n",
            " b\"Unless I'm sadly mistaken, I rented A Nightmare on Elm Street 3 several years ago and there was a music video, I'm pretty sure which was called Dream Warriors, at the end of it, and I rented this one on DVD hoping that the video would be there because it was one of the funniest things I've ever seen. It's amazing how stuff from the 80s is so funny now, but nothing is funnier than 80s rap videos. There was this rap group singing that song Dream Warriors on the VHS version of this movie after the credits, and they're all wearing like denim jackets with no shirt underneath and form fitting jean shorts that are all frayed at the bottoms like Daisy Dukes. What could make a rap group look more foolish I can't imagine.<br /><br />(spoilers) At any rate, I was disappointed in looking for that video on the DVD version, so all I had was this mediocre installment in the Freddy Krueger series. The movie sort of starts off with the same idea as part 2, with the main character witnessing all kinds of gruesome murders and then sort of coming out of a trance and finding himself with the bloody hands. Kristen Parker (Patricia Arquette) has a nightmare about the infamous house that Nancy Thompson used to live in, then runs to the bathroom, the sink's handles turn into Freddy's hands and attack her, and then she wakes up standing in her bathroom having slit her own wrists. From there, the movie turns into the usual mental hospital installment. <br /><br />`Larry' Fishburne, tired of always playing the bad guy in his roles, was happy to take on the role in this film as a nice-guy orderly, stern but accommodating when the patients want to bend the rules a little. Not surprisingly, he turns in what is by leaps and bounds the best performance in the movie. Arquette later goes on to become an accomplished actor, but had not perfected her acting skills when she starred in this film. The characters in the movie are mostly all patients at the mental hospital that Kristen is placed into after cutting her wrists. All of them are cynical and uncooperative, almost none believing that they really belong there at all. Eventually, they realize and are able to convince the staff that they are all having dreams about the same man and it's not just some kind of group hysteria.<br /><br />Heather Langenkamp has returned in her famous role as Nancy Thompson, this time grown up into a dream researcher as a result of her childhood experiences involving Freddy Krueger. Not surprisingly, she is able to quickly relate to the hysterical Kristen and the rest of the patients, since she had experienced exactly what they're going through. There are some interesting murders in this installment, and the technology used for the special effects have taken a huge jump. There is a gigantic, worm-like Freddy that tries to swallow Kristen whole, there is a scene where a television turns into Freddy and with mechanical arms he picks up one of the patients there for some late night entertainment and punishes her for sitting too close to the TV, but there is also an unconvincing go-motion scene where a couple guys have a fight with Freddy Krueger's skeleton, which has been rotting in the trunk of some car in a car junkyard. And one of the more groan-inducing scenes was one where Freddy attacks one of the patients in his dream (the one famous for sleepwalking), tearing the muscles and tendons out of his arms and legs and leading him around like a puppet. Ouch.<br /><br />We get a peek into Freddy's past in this installment. Not only do we meet his mother, but we also find out the circumstances that led to Freddy being fathered by more than 100 maniacs. In fighting Freddy, the patients all band together and, in their dreams, use their special powers (most of which reflect their shortcomings in real life) to fight him. One student, bound to a wheelchair, is able to walk in his dreams, another has the hilarious powers of what he calls the `Wizard Master,' another is `beautiful and bad' (she has lots of makeup, her hair stands up in a foot-high Mohawk, and she has knives). Clever, but the movie falters when it has only one of the patients, the one who can't speak, not have any powers in his dreams until the climax of the movie, when he suddenly realizes that he can talk in his dreams (at just the right moment to save the day). His dream power was a little too obvious to have been left out for that long, but collectively, now you see why the movie was subtitled Dream Warriors.<br /><br />Altogether, this is not an entirely weak entry into the series. The acting is pretty shoddy, but it's actually pretty good for a horror movie. Larry Fishburne vastly overshadows the rest of the cast, displaying wonderful acting skills early on in his career, and the movie is not simply a rehash of either of the first two \\xc2\\x96 a problem that plagues the Friday the 13th movies much more than the Elm Street films. The characters are never developed enough to allow for the later creation of much tension, which is why most of the deaths come across more as creative ways to kill off someone in a horror film than the tragic loss of the life of one of the characters that we've come to know and root for their triumph over evil. But then again, not a lot of horror movies take the time to really develop their characters to the point where you throw up your hands in defeat when they are killed, or are on the edge of your seat as they run for their lives. But it's important to note that the few horror films that actually do that are almost invariably the best ones\\xc2\\x85\"\n",
            " b\"The story would never win awards, but that's not what it's about... the script was just entertaining and suspenseful enough to make room for the incredibly choreographed fight scenes. Who needs a story with fighting like that? Really, it's worth watching for that reason alone. IF you can handle the gore, of which there is a LOT... none of it done realistically enough to be tough to look at. I gave it a 7.\"]\n",
            "\n",
            "labels:  [1 0 1]\n"
          ]
        }
      ]
    },
    {
      "cell_type": "markdown",
      "source": [
        "**Buat Teks Encoder**"
      ],
      "metadata": {
        "id": "SuPT1k7DpYLK"
      }
    },
    {
      "cell_type": "code",
      "source": [
        "VOCAB_SIZE = 1000\n",
        "encoder = tf.keras.layers.TextVectorization(\n",
        "    max_tokens=VOCAB_SIZE)\n",
        "encoder.adapt(train_dataset.map(lambda text, label: text))"
      ],
      "metadata": {
        "id": "mriZzfIrpZBL"
      },
      "execution_count": null,
      "outputs": []
    },
    {
      "cell_type": "code",
      "source": [
        "vocab = np.array(encoder.get_vocabulary())\n",
        "vocab[:20]"
      ],
      "metadata": {
        "id": "QSkaWzl1pgYL",
        "colab": {
          "base_uri": "https://localhost:8080/"
        },
        "outputId": "b9e89214-bc65-4f1f-f1f9-0a3c2cd73bcb"
      },
      "execution_count": null,
      "outputs": [
        {
          "output_type": "execute_result",
          "data": {
            "text/plain": [
              "array(['', '[UNK]', 'the', 'and', 'a', 'of', 'to', 'is', 'in', 'it', 'i',\n",
              "       'this', 'that', 'br', 'was', 'as', 'for', 'with', 'movie', 'but'],\n",
              "      dtype='<U14')"
            ]
          },
          "metadata": {},
          "execution_count": 7
        }
      ]
    },
    {
      "cell_type": "code",
      "source": [
        "# Setelah kosakata diatur, lapisan dapat mengkodekan teks ke dalam indeks. Tensor indeks diberi bantalan 0 ke urutan terpanjang dalam batch (kecuali jika Anda menetapkan output_sequence_length tetap):\n",
        "encoded_example = encoder(example)[:3].numpy()\n",
        "encoded_example"
      ],
      "metadata": {
        "id": "QfUxovmvpidL",
        "colab": {
          "base_uri": "https://localhost:8080/"
        },
        "outputId": "5cda01cb-fbb6-40f4-f603-8a6c938dc160"
      },
      "execution_count": null,
      "outputs": [
        {
          "output_type": "execute_result",
          "data": {
            "text/plain": [
              "array([[252,  22, 108, ...,   0,   0,   0],\n",
              "       [893, 142,   1, ...,   2, 115,   1],\n",
              "       [  2,  64,  59, ...,   0,   0,   0]])"
            ]
          },
          "metadata": {},
          "execution_count": 8
        }
      ]
    },
    {
      "cell_type": "code",
      "source": [
        "# Dengan pengaturan default, prosesnya tidak dapat dibalik sepenuhnya. Ada dua alasan utama untuk itu:\n",
        "# -Nilai default untuk argumen standarisasi preprocessing.TextVectorization adalah \"lower_and_strip_punctuation\".\n",
        "# -Ukuran kosa kata yang terbatas dan kurangnya fallback berbasis karakter menghasilkan beberapa token yang tidak diketahui.\n",
        "for n in range(3):\n",
        "  print(\"Original: \", example[n].numpy())\n",
        "  print(\"Round-trip: \", \" \".join(vocab[encoded_example[n]]))\n",
        "  print()"
      ],
      "metadata": {
        "id": "J7Sw8_RIpoIa",
        "colab": {
          "base_uri": "https://localhost:8080/"
        },
        "outputId": "332c5974-c75d-4522-b958-3e2c3303d096"
      },
      "execution_count": null,
      "outputs": [
        {
          "output_type": "stream",
          "name": "stdout",
          "text": [
            "Original:  b'Having not seen all the films released in 2002, I can\\'t say that this is the best film of the year. I can say that it is the best film I have seen all year. <br /><br />Most American films featuring black people either obsess over the American preoccupation with \"race relations\", or fall into the cliches of the inner city ghetto, with every sterotype imaginable spouting ebonic-phrased slang. Antwone Fisher stands proudly alone in this regard: race is irrelevant, save for one fight that may, or may not, have been provoked by a racial slur.<br /><br />Antwone Fisher\\'s story is one that should find resonance with any empathic individual. He is understatedly, and thoughtfully, portrayed by Derek Luke. Denzel Washington, while obviously using his star power to have the film made, sticks to the background for the most part, and allows the film to be the Antwone Fisher story. <br /><br />At a time when BET, and popular culture in general want to maintain the ghetoization of a large number of Americans (and Canadians too, you know), this is a film that speaks to the humanity in all of us. I just hope that the non-Black audience will go see this film for that humanity, rather than avoiding it because they feel that there are no characters or actors in the movie whom they can identify with. That would be a sad commentary on race-relations in North America in and of itself. <br /><br />'\n",
            "Round-trip:  having not seen all the films released in [UNK] i cant say that this is the best film of the year i can say that it is the best film i have seen all year br br most american films [UNK] black people either [UNK] over the american [UNK] with [UNK] [UNK] or fall into the [UNK] of the [UNK] city [UNK] with every [UNK] [UNK] [UNK] [UNK] [UNK] [UNK] [UNK] [UNK] [UNK] alone in this [UNK] [UNK] is [UNK] save for one fight that may or may not have been [UNK] by a [UNK] [UNK] br [UNK] [UNK] story is one that should find [UNK] with any [UNK] [UNK] he is [UNK] and [UNK] portrayed by [UNK] [UNK] [UNK] [UNK] while obviously using his star power to have the film made [UNK] to the background for the most part and [UNK] the film to be the [UNK] [UNK] story br br at a time when [UNK] and [UNK] [UNK] in general want to [UNK] the [UNK] of a [UNK] number of [UNK] and [UNK] too you know this is a film that [UNK] to the [UNK] in all of us i just hope that the [UNK] audience will go see this film for that [UNK] rather than [UNK] it because they feel that there are no characters or actors in the movie whom they can [UNK] with that would be a sad [UNK] on [UNK] in [UNK] america in and of itself br br                                                                                                                                                                                                                                                                                                                                                                                                                                                                                                                                                                                                                                                                                                                                                                                        \n",
            "\n",
            "Original:  b\"Unless I'm sadly mistaken, I rented A Nightmare on Elm Street 3 several years ago and there was a music video, I'm pretty sure which was called Dream Warriors, at the end of it, and I rented this one on DVD hoping that the video would be there because it was one of the funniest things I've ever seen. It's amazing how stuff from the 80s is so funny now, but nothing is funnier than 80s rap videos. There was this rap group singing that song Dream Warriors on the VHS version of this movie after the credits, and they're all wearing like denim jackets with no shirt underneath and form fitting jean shorts that are all frayed at the bottoms like Daisy Dukes. What could make a rap group look more foolish I can't imagine.<br /><br />(spoilers) At any rate, I was disappointed in looking for that video on the DVD version, so all I had was this mediocre installment in the Freddy Krueger series. The movie sort of starts off with the same idea as part 2, with the main character witnessing all kinds of gruesome murders and then sort of coming out of a trance and finding himself with the bloody hands. Kristen Parker (Patricia Arquette) has a nightmare about the infamous house that Nancy Thompson used to live in, then runs to the bathroom, the sink's handles turn into Freddy's hands and attack her, and then she wakes up standing in her bathroom having slit her own wrists. From there, the movie turns into the usual mental hospital installment. <br /><br />`Larry' Fishburne, tired of always playing the bad guy in his roles, was happy to take on the role in this film as a nice-guy orderly, stern but accommodating when the patients want to bend the rules a little. Not surprisingly, he turns in what is by leaps and bounds the best performance in the movie. Arquette later goes on to become an accomplished actor, but had not perfected her acting skills when she starred in this film. The characters in the movie are mostly all patients at the mental hospital that Kristen is placed into after cutting her wrists. All of them are cynical and uncooperative, almost none believing that they really belong there at all. Eventually, they realize and are able to convince the staff that they are all having dreams about the same man and it's not just some kind of group hysteria.<br /><br />Heather Langenkamp has returned in her famous role as Nancy Thompson, this time grown up into a dream researcher as a result of her childhood experiences involving Freddy Krueger. Not surprisingly, she is able to quickly relate to the hysterical Kristen and the rest of the patients, since she had experienced exactly what they're going through. There are some interesting murders in this installment, and the technology used for the special effects have taken a huge jump. There is a gigantic, worm-like Freddy that tries to swallow Kristen whole, there is a scene where a television turns into Freddy and with mechanical arms he picks up one of the patients there for some late night entertainment and punishes her for sitting too close to the TV, but there is also an unconvincing go-motion scene where a couple guys have a fight with Freddy Krueger's skeleton, which has been rotting in the trunk of some car in a car junkyard. And one of the more groan-inducing scenes was one where Freddy attacks one of the patients in his dream (the one famous for sleepwalking), tearing the muscles and tendons out of his arms and legs and leading him around like a puppet. Ouch.<br /><br />We get a peek into Freddy's past in this installment. Not only do we meet his mother, but we also find out the circumstances that led to Freddy being fathered by more than 100 maniacs. In fighting Freddy, the patients all band together and, in their dreams, use their special powers (most of which reflect their shortcomings in real life) to fight him. One student, bound to a wheelchair, is able to walk in his dreams, another has the hilarious powers of what he calls the `Wizard Master,' another is `beautiful and bad' (she has lots of makeup, her hair stands up in a foot-high Mohawk, and she has knives). Clever, but the movie falters when it has only one of the patients, the one who can't speak, not have any powers in his dreams until the climax of the movie, when he suddenly realizes that he can talk in his dreams (at just the right moment to save the day). His dream power was a little too obvious to have been left out for that long, but collectively, now you see why the movie was subtitled Dream Warriors.<br /><br />Altogether, this is not an entirely weak entry into the series. The acting is pretty shoddy, but it's actually pretty good for a horror movie. Larry Fishburne vastly overshadows the rest of the cast, displaying wonderful acting skills early on in his career, and the movie is not simply a rehash of either of the first two \\xc2\\x96 a problem that plagues the Friday the 13th movies much more than the Elm Street films. The characters are never developed enough to allow for the later creation of much tension, which is why most of the deaths come across more as creative ways to kill off someone in a horror film than the tragic loss of the life of one of the characters that we've come to know and root for their triumph over evil. But then again, not a lot of horror movies take the time to really develop their characters to the point where you throw up your hands in defeat when they are killed, or are on the edge of your seat as they run for their lives. But it's important to note that the few horror films that actually do that are almost invariably the best ones\\xc2\\x85\"\n",
            "Round-trip:  unless im [UNK] [UNK] i [UNK] a [UNK] on [UNK] street 3 several years ago and there was a music video im pretty sure which was called dream [UNK] at the end of it and i [UNK] this one on dvd [UNK] that the video would be there because it was one of the [UNK] things ive ever seen its amazing how stuff from the 80s is so funny now but nothing is [UNK] than 80s [UNK] [UNK] there was this [UNK] group [UNK] that song dream [UNK] on the [UNK] version of this movie after the credits and theyre all [UNK] like [UNK] [UNK] with no [UNK] [UNK] and form [UNK] [UNK] [UNK] that are all [UNK] at the [UNK] like [UNK] [UNK] what could make a [UNK] group look more [UNK] i cant [UNK] br [UNK] at any [UNK] i was disappointed in looking for that video on the dvd version so all i had was this [UNK] [UNK] in the [UNK] [UNK] series the movie sort of starts off with the same idea as part 2 with the main character [UNK] all [UNK] of [UNK] [UNK] and then sort of coming out of a [UNK] and [UNK] himself with the [UNK] hands [UNK] [UNK] [UNK] [UNK] has a [UNK] about the [UNK] house that [UNK] [UNK] used to live in then [UNK] to the [UNK] the [UNK] [UNK] turn into [UNK] hands and [UNK] her and then she [UNK] up [UNK] in her [UNK] having [UNK] her own [UNK] from there the movie turns into the usual [UNK] [UNK] [UNK] br br [UNK] [UNK] [UNK] of always playing the bad guy in his roles was happy to take on the role in this film as a [UNK] [UNK] [UNK] but [UNK] when the [UNK] want to [UNK] the [UNK] a little not [UNK] he turns in what is by [UNK] and [UNK] the best performance in the movie [UNK] later goes on to become an [UNK] actor but had not [UNK] her acting [UNK] when she [UNK] in this film the characters in the movie are mostly all [UNK] at the [UNK] [UNK] that [UNK] is [UNK] into after [UNK] her [UNK] all of them are [UNK] and [UNK] almost none [UNK] that they really [UNK] there at all eventually they realize and are able to [UNK] the [UNK] that they are all having [UNK] about the same man and its not just some kind of group [UNK] br [UNK] [UNK] has [UNK] in her famous role as [UNK] [UNK] this time [UNK] up into a dream [UNK] as a result of her [UNK] [UNK] [UNK] [UNK] [UNK] not [UNK] she is able to quickly [UNK] to the [UNK] [UNK] and the rest of the [UNK] since she had [UNK] exactly what theyre going through there are some interesting [UNK] in this [UNK] and the [UNK] used for the special effects have taken a huge [UNK] there is a [UNK] [UNK] [UNK] that tries to [UNK] [UNK] whole there is a scene where a television turns into [UNK] and with [UNK] [UNK] he [UNK] up one of the [UNK] there for some late night entertainment and [UNK] her for [UNK] too close to the tv but there is also an [UNK] [UNK] scene where a couple guys have a fight with [UNK] [UNK] [UNK] which has been [UNK] in the [UNK] of some car in a car [UNK] and one of the more [UNK] scenes was one where [UNK] [UNK] one of the [UNK] in his dream the one famous for [UNK] [UNK] the [UNK] and [UNK] out of his [UNK] and [UNK] and leading him around like a [UNK] [UNK] br we get a [UNK] into [UNK] past in this [UNK] not only do we meet his mother but we also find out the [UNK] that [UNK] to [UNK] being [UNK] by more than [UNK] [UNK] in fighting [UNK] the [UNK] all [UNK] together and in their [UNK] use their special [UNK] most of which [UNK] their [UNK] in real life to fight him one [UNK] [UNK] to a [UNK] is able to [UNK] in his [UNK] another has the hilarious [UNK] of what he [UNK] the [UNK] [UNK] another is beautiful and bad she has lots of [UNK] her [UNK] [UNK] up in a [UNK] [UNK] and she has [UNK] [UNK] but the movie [UNK] when it has only one of the [UNK] the one who cant [UNK] not have any [UNK] in his [UNK] until the [UNK] of the movie when he [UNK] [UNK] that he can talk in his [UNK] at just the right moment to save the day his dream power was a little too obvious to have been left out for that long but [UNK] now you see why the movie was [UNK] dream [UNK] br [UNK] this is not an [UNK] weak [UNK] into the series the acting is pretty [UNK] but its actually pretty good for a horror movie [UNK] [UNK] [UNK] [UNK] the rest of the cast [UNK] wonderful acting [UNK] early on in his career and the movie is not simply a [UNK] of either of the first two  a problem that [UNK] the [UNK] the [UNK] movies much more than the [UNK] street films the characters are never [UNK] enough to [UNK] for the later [UNK] of much [UNK] which is why most of the [UNK] come across more as [UNK] ways to kill off someone in a horror film than the [UNK] [UNK] of the life of one of the characters that [UNK] come to know and [UNK] for their [UNK] over evil but then again not a lot of horror movies take the time to really [UNK] their characters to the point where you [UNK] up your hands in [UNK] when they are killed or are on the [UNK] of your [UNK] as they run for their lives but its important to note that the few horror films that actually do that are almost [UNK] the best [UNK]\n",
            "\n",
            "Original:  b\"The story would never win awards, but that's not what it's about... the script was just entertaining and suspenseful enough to make room for the incredibly choreographed fight scenes. Who needs a story with fighting like that? Really, it's worth watching for that reason alone. IF you can handle the gore, of which there is a LOT... none of it done realistically enough to be tough to look at. I gave it a 7.\"\n",
            "Round-trip:  the story would never [UNK] [UNK] but thats not what its about the script was just entertaining and [UNK] enough to make room for the incredibly [UNK] fight scenes who needs a story with fighting like that really its worth watching for that reason alone if you can [UNK] the gore of which there is a lot none of it done [UNK] enough to be [UNK] to look at i gave it a [UNK]                                                                                                                                                                                                                                                                                                                                                                                                                                                                                                                                                                                                                                                                                                                                                                                                                                                                                                                                                                   \n",
            "\n"
          ]
        }
      ]
    },
    {
      "cell_type": "code",
      "source": [
        "# Buat Model\n",
        "\n",
        "model = tf.keras.Sequential([\n",
        "    encoder,\n",
        "    tf.keras.layers.Embedding(\n",
        "        input_dim=len(encoder.get_vocabulary()),\n",
        "        output_dim=64,\n",
        "        # Use masking to handle the variable sequence lengths\n",
        "        mask_zero=True),\n",
        "    tf.keras.layers.Bidirectional(tf.keras.layers.LSTM(64)),\n",
        "    tf.keras.layers.Dense(64, activation='relu'),\n",
        "    tf.keras.layers.Dense(1)\n",
        "])"
      ],
      "metadata": {
        "id": "9p4iuIaLpupD"
      },
      "execution_count": null,
      "outputs": []
    },
    {
      "cell_type": "code",
      "source": [
        "print([layer.supports_masking for layer in model.layers])"
      ],
      "metadata": {
        "id": "L4lTFI44p2kT",
        "colab": {
          "base_uri": "https://localhost:8080/"
        },
        "outputId": "53d3160a-c441-4890-acd5-ed72de2a6946"
      },
      "execution_count": null,
      "outputs": [
        {
          "output_type": "stream",
          "name": "stdout",
          "text": [
            "[False, True, True, True, True]\n"
          ]
        }
      ]
    },
    {
      "cell_type": "code",
      "source": [
        "# predict on a sample text without padding.\n",
        "\n",
        "sample_text = ('The movie was cool. The animation and the graphics '\n",
        "               'were out of this world. I would recommend this movie.')\n",
        "predictions = model.predict(np.array([sample_text]))\n",
        "print(predictions[0])"
      ],
      "metadata": {
        "id": "pG1sPXs7p3Cy",
        "colab": {
          "base_uri": "https://localhost:8080/"
        },
        "outputId": "d5f1562f-1e8e-4527-95e6-28395bc2fea5"
      },
      "execution_count": null,
      "outputs": [
        {
          "output_type": "stream",
          "name": "stdout",
          "text": [
            "1/1 [==============================] - 8s 8s/step\n",
            "[-0.00435071]\n"
          ]
        }
      ]
    },
    {
      "cell_type": "code",
      "source": [
        "# predict on a sample text with padding\n",
        "\n",
        "padding = \"the \" * 2000\n",
        "predictions = model.predict(np.array([sample_text, padding]))\n",
        "print(predictions[0])"
      ],
      "metadata": {
        "id": "k2UxVrsVp6g8",
        "colab": {
          "base_uri": "https://localhost:8080/"
        },
        "outputId": "68ee965b-5ad8-40df-f375-2ff05dd15c93"
      },
      "execution_count": null,
      "outputs": [
        {
          "output_type": "stream",
          "name": "stdout",
          "text": [
            "1/1 [==============================] - 0s 68ms/step\n",
            "[-0.00435071]\n"
          ]
        }
      ]
    },
    {
      "cell_type": "code",
      "source": [
        "# compile model Keras untuk mengonfigurasi proses pelatihan:\n",
        "model.compile(loss=tf.keras.losses.BinaryCrossentropy(from_logits=True),\n",
        "              optimizer=tf.keras.optimizers.Adam(1e-4),\n",
        "              metrics=['accuracy'])"
      ],
      "metadata": {
        "id": "KHh8dDjVp88b"
      },
      "execution_count": null,
      "outputs": []
    },
    {
      "cell_type": "code",
      "source": [
        "# Train Model\n",
        "history = model.fit(train_dataset, epochs=10,\n",
        "                    validation_data=test_dataset,\n",
        "                    validation_steps=30)"
      ],
      "metadata": {
        "id": "1R__iQyWp-7M",
        "colab": {
          "base_uri": "https://localhost:8080/"
        },
        "outputId": "5da85dde-aaf8-495a-d8fe-e979b451ab98"
      },
      "execution_count": null,
      "outputs": [
        {
          "output_type": "stream",
          "name": "stdout",
          "text": [
            "Epoch 1/10\n",
            "391/391 [==============================] - 56s 112ms/step - loss: 0.6605 - accuracy: 0.5398 - val_loss: 0.5276 - val_accuracy: 0.7266\n",
            "Epoch 2/10\n",
            "391/391 [==============================] - 28s 71ms/step - loss: 0.4433 - accuracy: 0.7943 - val_loss: 0.3999 - val_accuracy: 0.8188\n",
            "Epoch 3/10\n",
            "391/391 [==============================] - 27s 69ms/step - loss: 0.3722 - accuracy: 0.8371 - val_loss: 0.3674 - val_accuracy: 0.8411\n",
            "Epoch 4/10\n",
            "391/391 [==============================] - 27s 67ms/step - loss: 0.3387 - accuracy: 0.8528 - val_loss: 0.3461 - val_accuracy: 0.8349\n",
            "Epoch 5/10\n",
            "391/391 [==============================] - 28s 70ms/step - loss: 0.3177 - accuracy: 0.8656 - val_loss: 0.3257 - val_accuracy: 0.8557\n",
            "Epoch 6/10\n",
            "391/391 [==============================] - 27s 69ms/step - loss: 0.3103 - accuracy: 0.8697 - val_loss: 0.3250 - val_accuracy: 0.8578\n",
            "Epoch 7/10\n",
            "391/391 [==============================] - 27s 68ms/step - loss: 0.3042 - accuracy: 0.8718 - val_loss: 0.3250 - val_accuracy: 0.8573\n",
            "Epoch 8/10\n",
            "391/391 [==============================] - 27s 68ms/step - loss: 0.3015 - accuracy: 0.8724 - val_loss: 0.3200 - val_accuracy: 0.8552\n",
            "Epoch 9/10\n",
            "391/391 [==============================] - 27s 69ms/step - loss: 0.2990 - accuracy: 0.8733 - val_loss: 0.3184 - val_accuracy: 0.8568\n",
            "Epoch 10/10\n",
            "391/391 [==============================] - 27s 68ms/step - loss: 0.2974 - accuracy: 0.8734 - val_loss: 0.3190 - val_accuracy: 0.8599\n"
          ]
        }
      ]
    },
    {
      "cell_type": "code",
      "source": [
        "test_loss, test_acc = model.evaluate(test_dataset)\n",
        "\n",
        "print('Test Loss:', test_loss)\n",
        "print('Test Accuracy:', test_acc)"
      ],
      "metadata": {
        "id": "M3pRwZlbqE4K",
        "colab": {
          "base_uri": "https://localhost:8080/"
        },
        "outputId": "13bc776a-6ef9-429c-ede5-a61fee1d15b7"
      },
      "execution_count": null,
      "outputs": [
        {
          "output_type": "stream",
          "name": "stdout",
          "text": [
            "391/391 [==============================] - 20s 50ms/step - loss: 0.3163 - accuracy: 0.8616\n",
            "Test Loss: 0.31628841161727905\n",
            "Test Accuracy: 0.8615599870681763\n"
          ]
        }
      ]
    },
    {
      "cell_type": "code",
      "source": [
        "plt.figure(figsize=(16, 8))\n",
        "plt.subplot(1, 2, 1)\n",
        "plot_graphs(history, 'accuracy')\n",
        "plt.ylim(None, 1)\n",
        "plt.subplot(1, 2, 2)\n",
        "plot_graphs(history, 'loss')\n",
        "plt.ylim(0, None)"
      ],
      "metadata": {
        "id": "6IK94PuWqGcK",
        "colab": {
          "base_uri": "https://localhost:8080/",
          "height": 718
        },
        "outputId": "64e94440-8408-4dff-d7f4-6b63bcee3d08"
      },
      "execution_count": null,
      "outputs": [
        {
          "output_type": "execute_result",
          "data": {
            "text/plain": [
              "(0.0, 0.6786168083548546)"
            ]
          },
          "metadata": {},
          "execution_count": 17
        },
        {
          "output_type": "display_data",
          "data": {
            "text/plain": [
              "<Figure size 1600x800 with 2 Axes>"
            ],
            "image/png": "[encoded data removed]"
          },
          "metadata": {}
        }
      ]
    },
    {
      "cell_type": "code",
      "source": [
        "# Jalankan prediksi pada kalimat baru:\n",
        "# Jika prediksi >= 0,0 berarti positif, jika tidak maka negatif.\n",
        "sample_text = ('The movie was cool. The animation and the graphics '\n",
        "               'were out of this world. I would recommend this movie.')\n",
        "predictions = model.predict(np.array([sample_text]))"
      ],
      "metadata": {
        "id": "X1k74RJEqI9K",
        "colab": {
          "base_uri": "https://localhost:8080/"
        },
        "outputId": "5b8dcf30-e40a-49ae-8035-abf21d46f309"
      },
      "execution_count": null,
      "outputs": [
        {
          "output_type": "stream",
          "name": "stdout",
          "text": [
            "1/1 [==============================] - 3s 3s/step\n"
          ]
        }
      ]
    },
    {
      "cell_type": "markdown",
      "source": [
        "**Stack two or more LSTM layers**"
      ],
      "metadata": {
        "id": "lrrbToNzqTxL"
      }
    },
    {
      "cell_type": "code",
      "source": [
        "model = tf.keras.Sequential([\n",
        "    encoder,\n",
        "    tf.keras.layers.Embedding(len(encoder.get_vocabulary()), 64, mask_zero=True),\n",
        "    tf.keras.layers.Bidirectional(tf.keras.layers.LSTM(64, return_sequences=True)),\n",
        "    tf.keras.layers.Bidirectional(tf.keras.layers.LSTM(32)),\n",
        "    tf.keras.layers.Dense(64, activation='relu'),\n",
        "    tf.keras.layers.Dropout(0.5),\n",
        "    tf.keras.layers.Dense(1)\n",
        "])"
      ],
      "metadata": {
        "id": "U4d_gk5qqUgb"
      },
      "execution_count": null,
      "outputs": []
    },
    {
      "cell_type": "code",
      "source": [
        "model.compile(loss=tf.keras.losses.BinaryCrossentropy(from_logits=True),\n",
        "              optimizer=tf.keras.optimizers.Adam(1e-4),\n",
        "              metrics=['accuracy'])"
      ],
      "metadata": {
        "id": "bZKyXx0Aqr3C"
      },
      "execution_count": null,
      "outputs": []
    },
    {
      "cell_type": "code",
      "source": [
        "history = model.fit(train_dataset, epochs=10,\n",
        "                    validation_data=test_dataset,\n",
        "                    validation_steps=30)"
      ],
      "metadata": {
        "id": "in9-MvnQqwwT",
        "colab": {
          "base_uri": "https://localhost:8080/"
        },
        "outputId": "6041bcae-044b-42b8-b650-b1f2923cf560"
      },
      "execution_count": null,
      "outputs": [
        {
          "output_type": "stream",
          "name": "stdout",
          "text": [
            "Epoch 1/10\n",
            "391/391 [==============================] - 84s 161ms/step - loss: 0.6469 - accuracy: 0.5710 - val_loss: 0.4691 - val_accuracy: 0.7734\n",
            "Epoch 2/10\n",
            "391/391 [==============================] - 64s 162ms/step - loss: 0.4008 - accuracy: 0.8258 - val_loss: 0.3570 - val_accuracy: 0.8432\n",
            "Epoch 3/10\n",
            "391/391 [==============================] - 57s 145ms/step - loss: 0.3382 - accuracy: 0.8550 - val_loss: 0.3373 - val_accuracy: 0.8328\n",
            "Epoch 4/10\n",
            "391/391 [==============================] - 52s 133ms/step - loss: 0.3232 - accuracy: 0.8626 - val_loss: 0.3292 - val_accuracy: 0.8479\n",
            "Epoch 5/10\n",
            "391/391 [==============================] - 59s 149ms/step - loss: 0.3153 - accuracy: 0.8651 - val_loss: 0.3226 - val_accuracy: 0.8505\n",
            "Epoch 6/10\n",
            "391/391 [==============================] - 54s 138ms/step - loss: 0.3076 - accuracy: 0.8710 - val_loss: 0.3198 - val_accuracy: 0.8542\n",
            "Epoch 7/10\n",
            "391/391 [==============================] - 49s 124ms/step - loss: 0.3017 - accuracy: 0.8729 - val_loss: 0.3262 - val_accuracy: 0.8427\n",
            "Epoch 8/10\n",
            "391/391 [==============================] - 50s 126ms/step - loss: 0.3011 - accuracy: 0.8712 - val_loss: 0.3304 - val_accuracy: 0.8630\n",
            "Epoch 9/10\n",
            "391/391 [==============================] - 50s 128ms/step - loss: 0.2980 - accuracy: 0.8728 - val_loss: 0.3303 - val_accuracy: 0.8578\n",
            "Epoch 10/10\n",
            "391/391 [==============================] - 45s 113ms/step - loss: 0.2947 - accuracy: 0.8737 - val_loss: 0.3157 - val_accuracy: 0.8604\n"
          ]
        }
      ]
    },
    {
      "cell_type": "code",
      "source": [
        "test_loss, test_acc = model.evaluate(test_dataset)\n",
        "\n",
        "print('Test Loss:', test_loss)\n",
        "print('Test Accuracy:', test_acc)"
      ],
      "metadata": {
        "id": "WqbVyjyVqz57",
        "colab": {
          "base_uri": "https://localhost:8080/"
        },
        "outputId": "3f7cde82-9d64-4b16-816f-e364754e29ee"
      },
      "execution_count": null,
      "outputs": [
        {
          "output_type": "stream",
          "name": "stdout",
          "text": [
            "391/391 [==============================] - 21s 54ms/step - loss: 0.3132 - accuracy: 0.8618\n",
            "Test Loss: 0.3131527602672577\n",
            "Test Accuracy: 0.8618000149726868\n"
          ]
        }
      ]
    },
    {
      "cell_type": "code",
      "source": [
        "# predict on a sample text without padding.\n",
        "\n",
        "sample_text = ('The movie was not good. The animation and the graphics '\n",
        "               'were terrible. I would not recommend this movie.')\n",
        "predictions = model.predict(np.array([sample_text]))\n",
        "print(predictions)"
      ],
      "metadata": {
        "id": "T_uESsuVq1wb",
        "colab": {
          "base_uri": "https://localhost:8080/"
        },
        "outputId": "bb27ce4b-ebb3-4af1-ef59-8318bc4cfa49"
      },
      "execution_count": null,
      "outputs": [
        {
          "output_type": "stream",
          "name": "stdout",
          "text": [
            "1/1 [==============================] - 6s 6s/step\n",
            "[[-2.0757918]]\n"
          ]
        }
      ]
    },
    {
      "cell_type": "code",
      "source": [
        "plt.figure(figsize=(16, 6))\n",
        "plt.subplot(1, 2, 1)\n",
        "plot_graphs(history, 'accuracy')\n",
        "plt.subplot(1, 2, 2)\n",
        "plot_graphs(history, 'loss')"
      ],
      "metadata": {
        "id": "n2bogMFlq3US",
        "colab": {
          "base_uri": "https://localhost:8080/",
          "height": 542
        },
        "outputId": "09f512a7-d888-4fe5-edd8-8c6b01459f7d"
      },
      "execution_count": null,
      "outputs": [
        {
          "output_type": "display_data",
          "data": {
            "text/plain": [
              "<Figure size 1600x600 with 2 Axes>"
            ],
            "image/png": "[encoded data removed]"
          },
          "metadata": {}
        }
      ]
    },
    {
      "cell_type": "markdown",
      "source": [
        "# Praktikum 2\n",
        "Generator Teks dengan RNN"
      ],
      "metadata": {
        "id": "cz3PXbuU7iMl"
      }
    },
    {
      "cell_type": "code",
      "source": [
        "# Import TensorFlow\n",
        "import tensorflow as tf\n",
        "import numpy as np\n",
        "import os\n",
        "import time"
      ],
      "metadata": {
        "id": "b-lPDCa1-9O7"
      },
      "execution_count": null,
      "outputs": []
    },
    {
      "cell_type": "markdown",
      "source": [
        "**Download Dataset Shakespeare**\n",
        "\n",
        "Sesuaikan dengan lokasi data yang Anda punya."
      ],
      "metadata": {
        "id": "3rUSSoYX_CzL"
      }
    },
    {
      "cell_type": "code",
      "source": [
        "path_to_file = tf.keras.utils.get_file('shakespeare.txt', 'https://storage.googleapis.com/download.tensorflow.org/data/shakespeare.txt')"
      ],
      "metadata": {
        "colab": {
          "base_uri": "https://localhost:8080/"
        },
        "id": "2bGmucsF_EqM",
        "outputId": "7adb726a-e43a-4a69-b9c2-e7ecad5f6237"
      },
      "execution_count": null,
      "outputs": [
        {
          "output_type": "stream",
          "name": "stdout",
          "text": [
            "Downloading data from https://storage.googleapis.com/download.tensorflow.org/data/shakespeare.txt\n",
            "1115394/1115394 [==============================] - 0s 0us/step\n"
          ]
        }
      ]
    },
    {
      "cell_type": "markdown",
      "source": [
        "**Load Data**"
      ],
      "metadata": {
        "id": "3uQeEejE_PfU"
      }
    },
    {
      "cell_type": "code",
      "source": [
        "# Read, then decode for py2 compat.\n",
        "text = open(path_to_file, 'rb').read().decode(encoding='utf-8')\n",
        "# length of text is the number of characters in it\n",
        "print(f'Length of text: {len(text)} characters')"
      ],
      "metadata": {
        "colab": {
          "base_uri": "https://localhost:8080/"
        },
        "id": "_nR_fvIR_NFr",
        "outputId": "0ef9d926-a4ac-483e-e9e3-26bdd00403fc"
      },
      "execution_count": null,
      "outputs": [
        {
          "output_type": "stream",
          "name": "stdout",
          "text": [
            "Length of text: 1115394 characters\n"
          ]
        }
      ]
    },
    {
      "cell_type": "code",
      "source": [
        "# Take a look at the first 250 characters in text\n",
        "print(text[:250])"
      ],
      "metadata": {
        "colab": {
          "base_uri": "https://localhost:8080/"
        },
        "id": "740_FSqn_UHs",
        "outputId": "fc0e7d97-b577-4f38-a695-2947a5f38d18"
      },
      "execution_count": null,
      "outputs": [
        {
          "output_type": "stream",
          "name": "stdout",
          "text": [
            "First Citizen:\n",
            "Before we proceed any further, hear me speak.\n",
            "\n",
            "All:\n",
            "Speak, speak.\n",
            "\n",
            "First Citizen:\n",
            "You are all resolved rather to die than to famish?\n",
            "\n",
            "All:\n",
            "Resolved. resolved.\n",
            "\n",
            "First Citizen:\n",
            "First, you know Caius Marcius is chief enemy to the people.\n",
            "\n"
          ]
        }
      ]
    },
    {
      "cell_type": "code",
      "source": [
        "# The unique characters in the file\n",
        "vocab = sorted(set(text))\n",
        "print(f'{len(vocab)} unique characters')"
      ],
      "metadata": {
        "colab": {
          "base_uri": "https://localhost:8080/"
        },
        "id": "NIArfoFK_Vn8",
        "outputId": "634d3fdd-2523-424d-e337-0670aacdf73e"
      },
      "execution_count": null,
      "outputs": [
        {
          "output_type": "stream",
          "name": "stdout",
          "text": [
            "65 unique characters\n"
          ]
        }
      ]
    },
    {
      "cell_type": "markdown",
      "source": [
        "# Olah Teks\n",
        "# Vectorize Teks\n",
        "Sebelum training, Anda perlu mengonversi string menjadi representasi numerik. tf.keras.layers.StringLookup dapat mengubah setiap karakter menjadi ID numerik. Caranya adalah teks akan dipecah menjadi token terlebih dahulu."
      ],
      "metadata": {
        "id": "-y9A9ZTF_aWM"
      }
    },
    {
      "cell_type": "code",
      "source": [
        "example_texts = ['abcdefg', 'xyz']\n",
        "chars = tf.strings.unicode_split(example_texts, input_encoding='UTF-8')\n",
        "chars"
      ],
      "metadata": {
        "colab": {
          "base_uri": "https://localhost:8080/"
        },
        "id": "EQiY0EzZ_cp8",
        "outputId": "33a2f135-01ba-4429-c75b-328ee9878eeb"
      },
      "execution_count": null,
      "outputs": [
        {
          "output_type": "execute_result",
          "data": {
            "text/plain": [
              "<tf.RaggedTensor [[b'a', b'b', b'c', b'd', b'e', b'f', b'g'], [b'x', b'y', b'z']]>"
            ]
          },
          "metadata": {},
          "execution_count": 34
        }
      ]
    },
    {
      "cell_type": "markdown",
      "source": [
        "sekarang buat tf.keras.layers.StringLookup layer:"
      ],
      "metadata": {
        "id": "xz0N9CP__fJM"
      }
    },
    {
      "cell_type": "code",
      "source": [
        "ids_from_chars = tf.keras.layers.StringLookup(\n",
        "    vocabulary=list(vocab), mask_token=None\n",
        ")"
      ],
      "metadata": {
        "id": "fL3fYA-d_fdz"
      },
      "execution_count": null,
      "outputs": []
    },
    {
      "cell_type": "markdown",
      "source": [
        "perintah diatas mengconvert token menjadi id"
      ],
      "metadata": {
        "id": "DYU2LrPx_5nh"
      }
    },
    {
      "cell_type": "code",
      "source": [
        "ids = ids_from_chars(chars)\n",
        "ids"
      ],
      "metadata": {
        "colab": {
          "base_uri": "https://localhost:8080/"
        },
        "id": "QV871fcs_6OV",
        "outputId": "0d056332-abae-4468-a5c3-9423254fe286"
      },
      "execution_count": null,
      "outputs": [
        {
          "output_type": "execute_result",
          "data": {
            "text/plain": [
              "<tf.RaggedTensor [[40, 41, 42, 43, 44, 45, 46], [63, 64, 65]]>"
            ]
          },
          "metadata": {},
          "execution_count": 38
        }
      ]
    },
    {
      "cell_type": "code",
      "source": [
        "chars_from_ids = tf.keras.layers.StringLookup(\n",
        "    vocabulary=ids_from_chars.get_vocabulary(), invert=True, mask_token=None)"
      ],
      "metadata": {
        "id": "vBpjnWsX__Gc"
      },
      "execution_count": null,
      "outputs": []
    },
    {
      "cell_type": "code",
      "source": [
        "chars = chars_from_ids(ids)\n",
        "chars"
      ],
      "metadata": {
        "colab": {
          "base_uri": "https://localhost:8080/"
        },
        "id": "gp5oyF-mAAk7",
        "outputId": "f2040553-f863-4783-8257-bd89f255ddb2"
      },
      "execution_count": null,
      "outputs": [
        {
          "output_type": "execute_result",
          "data": {
            "text/plain": [
              "<tf.RaggedTensor [[b'a', b'b', b'c', b'd', b'e', b'f', b'g'], [b'x', b'y', b'z']]>"
            ]
          },
          "metadata": {},
          "execution_count": 41
        }
      ]
    },
    {
      "cell_type": "code",
      "source": [
        "tf.strings.reduce_join(chars, axis=-1).numpy()"
      ],
      "metadata": {
        "colab": {
          "base_uri": "https://localhost:8080/"
        },
        "id": "ZmSLqIXlADXT",
        "outputId": "41047ab2-1595-4eba-e806-d601103af11c"
      },
      "execution_count": null,
      "outputs": [
        {
          "output_type": "execute_result",
          "data": {
            "text/plain": [
              "array([b'abcdefg', b'xyz'], dtype=object)"
            ]
          },
          "metadata": {},
          "execution_count": 43
        }
      ]
    },
    {
      "cell_type": "code",
      "source": [
        "def text_from_ids(ids):\n",
        "    return tf.strings.reduce_join(chars_from_ids(ids), axis=-1)"
      ],
      "metadata": {
        "id": "nMuPabKaAE6r"
      },
      "execution_count": null,
      "outputs": []
    },
    {
      "cell_type": "markdown",
      "source": [
        "Prediksi\n",
        "\n",
        "Diberikan sebuah karakter, atau serangkaian karakter, karakter apa yang paling mungkin berikutnya? Ini adalah tugas yang harus Anda latih agar model dapat melakukannya. Masukan ke model akan berupa urutan karakter, dan Anda melatih model untuk memprediksi keluaran berupa karakter berikut pada setiap langkah waktu. Karena RNN mempertahankan keadaan internal yang bergantung pada elemen yang terlihat sebelumnya, mengingat semua karakter dihitung hingga saat ini, karakter apa selanjutnya?\n",
        "\n",
        "Membuat Trianing Set dan Target\n",
        "Selanjutnya bagilah teks menjadi contoh sequence. Setiap masukan sequence akan berisi karakter seq_length dari teks. Untuk setiap masukan sequence, target prediksi berisi teks dengan panjang yang sama, hanya digeser satu karakter ke kanan. Jadi, bagi teks menjadi beberapa bagian seq_length+1. Misalnya, seq_length adalah 4 dan teks kita adalah \"Hello\". Urutan masukannya adalah \"Hell\", dan urutan targetnya adalah \"ello\". Untuk melakukan ini, pertama-tama gunakan fungsi tf.data.Dataset.from_tensor_slices untuk mengonversi vektor teks menjadi aliran indeks karakter."
      ],
      "metadata": {
        "id": "FpC06AdwDgpX"
      }
    },
    {
      "cell_type": "code",
      "source": [
        "all_ids = ids_from_chars(tf.strings.unicode_split(text, 'UTF-8'))"
      ],
      "metadata": {
        "id": "8dNPhgXhDitH"
      },
      "execution_count": null,
      "outputs": []
    },
    {
      "cell_type": "code",
      "source": [
        "ids_dataset = tf.data.Dataset.from_tensor_slices(all_ids)"
      ],
      "metadata": {
        "id": "3pBiqmrzDlSD"
      },
      "execution_count": null,
      "outputs": []
    },
    {
      "cell_type": "code",
      "source": [
        "for ids in ids_dataset.take(10):\n",
        "    print(chars_from_ids(ids).numpy().decode('utf-8'))"
      ],
      "metadata": {
        "colab": {
          "base_uri": "https://localhost:8080/"
        },
        "id": "T9HliGhZDml7",
        "outputId": "cce73139-1e44-4a70-c0bd-d80e84dc084a"
      },
      "execution_count": null,
      "outputs": [
        {
          "output_type": "stream",
          "name": "stdout",
          "text": [
            "F\n",
            "i\n",
            "r\n",
            "s\n",
            "t\n",
            " \n",
            "C\n",
            "i\n",
            "t\n",
            "i\n"
          ]
        }
      ]
    },
    {
      "cell_type": "code",
      "source": [
        "seq_length = 100"
      ],
      "metadata": {
        "id": "uh2SYf40DoYz"
      },
      "execution_count": null,
      "outputs": []
    },
    {
      "cell_type": "markdown",
      "source": [
        "Metode batch memungkinkan Anda dengan mudah mengonversi karakter individual ini menjadi urutan ukuran yang diinginkan."
      ],
      "metadata": {
        "id": "420GUKL-Dp1D"
      }
    },
    {
      "cell_type": "code",
      "source": [
        "sequences = ids_dataset.batch(seq_length+1, drop_remainder=True)\n",
        "\n",
        "for seq in sequences.take(1):\n",
        "  print(chars_from_ids(seq))"
      ],
      "metadata": {
        "colab": {
          "base_uri": "https://localhost:8080/"
        },
        "id": "QkyFn80xEkRL",
        "outputId": "1db947c9-c0b9-4d31-bb90-cebd0a7004a4"
      },
      "execution_count": null,
      "outputs": [
        {
          "output_type": "stream",
          "name": "stdout",
          "text": [
            "tf.Tensor(\n",
            "[b'F' b'i' b'r' b's' b't' b' ' b'C' b'i' b't' b'i' b'z' b'e' b'n' b':'\n",
            " b'\\n' b'B' b'e' b'f' b'o' b'r' b'e' b' ' b'w' b'e' b' ' b'p' b'r' b'o'\n",
            " b'c' b'e' b'e' b'd' b' ' b'a' b'n' b'y' b' ' b'f' b'u' b'r' b't' b'h'\n",
            " b'e' b'r' b',' b' ' b'h' b'e' b'a' b'r' b' ' b'm' b'e' b' ' b's' b'p'\n",
            " b'e' b'a' b'k' b'.' b'\\n' b'\\n' b'A' b'l' b'l' b':' b'\\n' b'S' b'p' b'e'\n",
            " b'a' b'k' b',' b' ' b's' b'p' b'e' b'a' b'k' b'.' b'\\n' b'\\n' b'F' b'i'\n",
            " b'r' b's' b't' b' ' b'C' b'i' b't' b'i' b'z' b'e' b'n' b':' b'\\n' b'Y'\n",
            " b'o' b'u' b' '], shape=(101,), dtype=string)\n"
          ]
        }
      ]
    },
    {
      "cell_type": "code",
      "source": [
        "# akan lebih mudah untuk melihat apa yang dilakukan jika Anda menggabungkan token kembali menjadi string:\n",
        "for seq in sequences.take(5):\n",
        "    print(text_from_ids(seq).numpy())"
      ],
      "metadata": {
        "colab": {
          "base_uri": "https://localhost:8080/"
        },
        "id": "cegMfvNfEm4T",
        "outputId": "977d928f-cbd5-418c-f288-7cc5afb4ef29"
      },
      "execution_count": null,
      "outputs": [
        {
          "output_type": "stream",
          "name": "stdout",
          "text": [
            "b'First Citizen:\\nBefore we proceed any further, hear me speak.\\n\\nAll:\\nSpeak, speak.\\n\\nFirst Citizen:\\nYou '\n",
            "b'are all resolved rather to die than to famish?\\n\\nAll:\\nResolved. resolved.\\n\\nFirst Citizen:\\nFirst, you k'\n",
            "b\"now Caius Marcius is chief enemy to the people.\\n\\nAll:\\nWe know't, we know't.\\n\\nFirst Citizen:\\nLet us ki\"\n",
            "b\"ll him, and we'll have corn at our own price.\\nIs't a verdict?\\n\\nAll:\\nNo more talking on't; let it be d\"\n",
            "b'one: away, away!\\n\\nSecond Citizen:\\nOne word, good citizens.\\n\\nFirst Citizen:\\nWe are accounted poor citi'\n"
          ]
        }
      ]
    },
    {
      "cell_type": "markdown",
      "source": [
        "Untuk pelatihan, Anda memerlukan kumpulan data pasangan (input, label). Dimana input dan label merupakan urutan. Pada setiap langkah waktu, inputnya adalah karakter saat ini dan labelnya adalah karakter berikutnya. Berikut adalah fungsi yang mengambil urutan sebagai masukan, menduplikasi, dan menggesernya untuk menyelaraskan masukan dan label untuk setiap langkah waktu:"
      ],
      "metadata": {
        "id": "K5Qa6xERE38v"
      }
    },
    {
      "cell_type": "code",
      "source": [
        "def split_input_target(sequence):\n",
        "    input_text = sequence[:-1]\n",
        "    target_text = sequence[1:]\n",
        "    return input_text, target_text"
      ],
      "metadata": {
        "id": "tW2AxUeVE4gD"
      },
      "execution_count": null,
      "outputs": []
    },
    {
      "cell_type": "code",
      "source": [
        "split_input_target(list(\"Tensorflow\"))"
      ],
      "metadata": {
        "colab": {
          "base_uri": "https://localhost:8080/"
        },
        "id": "whbe7D30E-3r",
        "outputId": "408e5cff-1eb6-4f13-a99b-241cc5ae8921"
      },
      "execution_count": null,
      "outputs": [
        {
          "output_type": "execute_result",
          "data": {
            "text/plain": [
              "(['T', 'e', 'n', 's', 'o', 'r', 'f', 'l', 'o'],\n",
              " ['e', 'n', 's', 'o', 'r', 'f', 'l', 'o', 'w'])"
            ]
          },
          "metadata": {},
          "execution_count": 59
        }
      ]
    },
    {
      "cell_type": "code",
      "source": [
        "dataset = sequences.map(split_input_target)"
      ],
      "metadata": {
        "id": "BKHDKU0mE_Z7"
      },
      "execution_count": null,
      "outputs": []
    },
    {
      "cell_type": "code",
      "source": [
        "for input_example, target_example in dataset.take(1):\n",
        "    print(\"Input :\", text_from_ids(input_example).numpy())\n",
        "    print(\"Target:\", text_from_ids(target_example).numpy())"
      ],
      "metadata": {
        "colab": {
          "base_uri": "https://localhost:8080/"
        },
        "id": "3evk4sqUFCij",
        "outputId": "42c91ecc-c2d5-4816-9cd1-3ceede8ee18f"
      },
      "execution_count": null,
      "outputs": [
        {
          "output_type": "stream",
          "name": "stdout",
          "text": [
            "Input : b'First Citizen:\\nBefore we proceed any further, hear me speak.\\n\\nAll:\\nSpeak, speak.\\n\\nFirst Citizen:\\nYou'\n",
            "Target: b'irst Citizen:\\nBefore we proceed any further, hear me speak.\\n\\nAll:\\nSpeak, speak.\\n\\nFirst Citizen:\\nYou '\n"
          ]
        }
      ]
    },
    {
      "cell_type": "markdown",
      "source": [
        "# Membuat Batch Training\n",
        "Anda menggunakan tf.data untuk membagi teks menjadi sequence yang dapat diatur. Namun sebelum memasukkan data ini ke dalam model, Anda perlu mengacak data dan mengemasnya ke dalam batch."
      ],
      "metadata": {
        "id": "cqWuTPrzFuHM"
      }
    },
    {
      "cell_type": "code",
      "source": [
        "# Batch size\n",
        "BATCH_SIZE = 64\n",
        "\n",
        "# Buffer size to shuffle the dataset\n",
        "# (TF data is designed to work with possibly infinite sequences,\n",
        "# so it doesn't attempt to shuffle the entire sequence in memory. Instead,\n",
        "# it maintains a buffer in which it shuffles elements).\n",
        "BUFFER_SIZE = 10000\n",
        "\n",
        "dataset = (\n",
        "    dataset\n",
        "    .shuffle(BUFFER_SIZE)\n",
        "    .batch(BATCH_SIZE, drop_remainder=True)\n",
        "    .prefetch(tf.data.experimental.AUTOTUNE))\n",
        "\n",
        "dataset"
      ],
      "metadata": {
        "colab": {
          "base_uri": "https://localhost:8080/"
        },
        "id": "XSjynOSsFvNL",
        "outputId": "f58fb49c-0917-4c05-fea0-5fe3da05445d"
      },
      "execution_count": null,
      "outputs": [
        {
          "output_type": "execute_result",
          "data": {
            "text/plain": [
              "<_PrefetchDataset element_spec=(TensorSpec(shape=(64, 100), dtype=tf.int64, name=None), TensorSpec(shape=(64, 100), dtype=tf.int64, name=None))>"
            ]
          },
          "metadata": {},
          "execution_count": 64
        }
      ]
    },
    {
      "cell_type": "markdown",
      "source": [
        "# Buat Model\n",
        "\n",
        "Bagian ini mendefinisikan model sebagai subkelas keras.Model (untuk lebih detilnya, lihat Making new Layers and Models via subclassing).\n",
        "Model yang kita bangun memiliki 3 lapisan neural network :\n",
        "- tf.keras.layers.Embedding: Lapisan masukan. Tabel pencarian yang dapat dilatih yang akan memetakan setiap karakter-ID ke vektor dengan dimensi embedding_dim;\n",
        "- tf.keras.layers.GRU: lapisan RNN dengan ukuran unit=rnn_units (Anda juga dapat menggunakan lapisan LSTM di sini.)\n",
        "- tf.keras.layers.Dense: Lapisan keluaran, dengan keluaran vocab_size. Ini menghasilkan satu logit untuk setiap karakter dalam kosakata. Ini adalah log kemungkinan setiap karakter menurut model."
      ],
      "metadata": {
        "id": "vKUSrcaLF040"
      }
    },
    {
      "cell_type": "code",
      "source": [
        "# Length of the vocabulary in StringLookup Layer\n",
        "vocab_size = len(ids_from_chars.get_vocabulary())\n",
        "\n",
        "# The embedding dimension\n",
        "embedding_dim = 256\n",
        "\n",
        "# Number of RNN units\n",
        "rnn_units = 1024"
      ],
      "metadata": {
        "id": "7Ax4u4-uF33j"
      },
      "execution_count": null,
      "outputs": []
    },
    {
      "cell_type": "code",
      "source": [
        "class MyModel(tf.keras.Model):\n",
        "  def __init__(self, vocab_size, embedding_dim, rnn_units):\n",
        "    super().__init__(self)\n",
        "    self.embedding = tf.keras.layers.Embedding(vocab_size, embedding_dim)\n",
        "    self.gru = tf.keras.layers.GRU(rnn_units,\n",
        "                                   return_sequences=True,\n",
        "                                   return_state=True)\n",
        "    self.dense = tf.keras.layers.Dense(vocab_size)\n",
        "\n",
        "  def call(self, inputs, states=None, return_state=False, training=False):\n",
        "    x = inputs\n",
        "    x = self.embedding(x, training=training)\n",
        "    if states is None:\n",
        "      states = self.gru.get_initial_state(x)\n",
        "    x, states = self.gru(x, initial_state=states, training=training)\n",
        "    x = self.dense(x, training=training)\n",
        "\n",
        "    if return_state:\n",
        "      return x, states\n",
        "    else:\n",
        "      return x"
      ],
      "metadata": {
        "id": "mOUOjCEuF6_7"
      },
      "execution_count": null,
      "outputs": []
    },
    {
      "cell_type": "code",
      "source": [
        "model = MyModel(\n",
        "    vocab_size=vocab_size,\n",
        "    embedding_dim=embedding_dim,\n",
        "    rnn_units=rnn_units)"
      ],
      "metadata": {
        "id": "Ff46ckRNGAFz"
      },
      "execution_count": null,
      "outputs": []
    },
    {
      "cell_type": "markdown",
      "source": [
        "# Uji Model\n",
        "Coba jalankan model dan cek apakah sidah sesuai dengan output\n",
        "pertama, cek bentuk dari output"
      ],
      "metadata": {
        "id": "GUhv1momGFtV"
      }
    },
    {
      "cell_type": "code",
      "source": [
        "for input_example_batch, target_example_batch in dataset.take(1):\n",
        "    example_batch_predictions = model(input_example_batch)\n",
        "    print(example_batch_predictions.shape, \"# (batch_size, sequence_length, vocab_size)\")"
      ],
      "metadata": {
        "colab": {
          "base_uri": "https://localhost:8080/"
        },
        "id": "2LJndvkuGH-s",
        "outputId": "4e7cfe39-c1c0-4f27-da4e-33764b64dd14"
      },
      "execution_count": null,
      "outputs": [
        {
          "output_type": "stream",
          "name": "stdout",
          "text": [
            "(64, 100, 66) # (batch_size, sequence_length, vocab_size)\n"
          ]
        }
      ]
    },
    {
      "cell_type": "code",
      "source": [
        "# Dalam contoh di atas, panjang urutan masukan adalah 100 tetapi model dapat dijalankan pada masukan dengan panjang berapa pun:\n",
        "model.summary()"
      ],
      "metadata": {
        "colab": {
          "base_uri": "https://localhost:8080/"
        },
        "id": "g0m0L1EkGK0e",
        "outputId": "3e2b5c89-0b4c-4478-bba1-ecff5f906f6b"
      },
      "execution_count": null,
      "outputs": [
        {
          "output_type": "stream",
          "name": "stdout",
          "text": [
            "Model: \"my_model\"\n",
            "_________________________________________________________________\n",
            " Layer (type)                Output Shape              Param #   \n",
            "=================================================================\n",
            " embedding_3 (Embedding)     multiple                  16896     \n",
            "                                                                 \n",
            " gru (GRU)                   multiple                  3938304   \n",
            "                                                                 \n",
            " dense_6 (Dense)             multiple                  67650     \n",
            "                                                                 \n",
            "=================================================================\n",
            "Total params: 4022850 (15.35 MB)\n",
            "Trainable params: 4022850 (15.35 MB)\n",
            "Non-trainable params: 0 (0.00 Byte)\n",
            "_________________________________________________________________\n"
          ]
        }
      ]
    },
    {
      "cell_type": "code",
      "source": [
        "#Untuk mendapatkan prediksi aktual dari model, Anda perlu mengambil sampel dari distribusi keluaran, untuk mendapatkan indeks karakter aktual. Distribusi ini ditentukan oleh logit pada kosakata karakter. Catatan: Penting untuk mengambil sampel dari distribusi ini karena mengambil argmax dari distribusi tersebut dapat dengan mudah membuat model terjebak dalam infinote loop. Cobalah untuk contoh pertama di batch:\n",
        "sampled_indices = tf.random.categorical(example_batch_predictions[0], num_samples=1)\n",
        "sampled_indices = tf.squeeze(sampled_indices, axis=-1).numpy()"
      ],
      "metadata": {
        "id": "c_D9ZMBfGQvE"
      },
      "execution_count": null,
      "outputs": []
    },
    {
      "cell_type": "code",
      "source": [
        "# Hal ini memberi kita, pada setiap langkah waktu, prediksi indeks karakter berikutnya:\n",
        "sampled_indices"
      ],
      "metadata": {
        "colab": {
          "base_uri": "https://localhost:8080/"
        },
        "id": "G4s3WE-lGXIT",
        "outputId": "66e9da18-a428-4c6a-ebb1-5c549113cef4"
      },
      "execution_count": null,
      "outputs": [
        {
          "output_type": "execute_result",
          "data": {
            "text/plain": [
              "array([ 4, 20, 42, 55, 64,  3, 43, 61, 37, 48, 57, 45,  4, 20, 17, 55, 51,\n",
              "       31, 42, 55, 33, 43, 25, 57, 47, 21, 31, 20, 57,  8, 14, 25, 23, 11,\n",
              "       41, 46,  6,  8, 19, 14, 21, 12, 38,  5,  7, 39, 19, 45,  2,  8, 55,\n",
              "       61, 10, 26, 40, 37, 10,  4, 24, 48, 59, 31,  1, 14, 26, 16, 21, 55,\n",
              "       40,  9, 26, 51, 33,  3, 49,  6, 36, 34, 44, 28,  9, 59, 25, 35,  4,\n",
              "       33, 61, 14, 57, 10, 24, 43, 46, 19, 50, 54,  0,  6,  4, 62])"
            ]
          },
          "metadata": {},
          "execution_count": 73
        }
      ]
    },
    {
      "cell_type": "code",
      "source": [
        "# Dekode kode berikut untuk melihat teks yang diprediksi oleh model tidak terlatih ini:\n",
        "print(\"Input:\\n\", text_from_ids(input_example_batch[0]).numpy())\n",
        "print()\n",
        "print(\"Next Char Predictions:\\n\", text_from_ids(sampled_indices).numpy())"
      ],
      "metadata": {
        "colab": {
          "base_uri": "https://localhost:8080/"
        },
        "id": "cE9v4jpRGqdX",
        "outputId": "8302ad0d-062a-4104-ab86-dfc41b2ec90a"
      },
      "execution_count": null,
      "outputs": [
        {
          "output_type": "stream",
          "name": "stdout",
          "text": [
            "Input:\n",
            " b\"g: being something\\ngently considered, I'll bring you where he is\\naboard, tender your persons to his \"\n",
            "\n",
            "Next Char Predictions:\n",
            " b\"$Gcpy!dvXirf$GDplRcpTdLrhHRGr-ALJ:bg'-FAH;Y&,ZFf -pv3MaX3$KitR\\nAMCHpa.MlT!j'WUeO.tLV$TvAr3KdgFko[UNK]'$w\"\n"
          ]
        }
      ]
    },
    {
      "cell_type": "code",
      "source": [
        "# Tambahan optimizer dan fungsi loss\n",
        "# loss function tf.keras.losses.sparse_categorical_crossentropy standar berfungsi dalam kasus ini karena diterapkan di seluruh dimensi terakhir prediksi. Karena model Anda mengembalikan logits, Anda perlu mengatur flag from_logits.\n",
        "import tensorflow as tf\n",
        "\n",
        "loss = tf.losses.SparseCategoricalCrossentropy(from_logits=True)\n",
        "example_batch_mean_loss = loss(target_example_batch, example_batch_predictions)\n",
        "print(\"Prediction shape: \", example_batch_predictions.shape, \" # (batch_size, sequence_length, vocab_size)\")\n",
        "print(\"Mean loss:        \", example_batch_mean_loss)"
      ],
      "metadata": {
        "colab": {
          "base_uri": "https://localhost:8080/"
        },
        "id": "VTU2KT_CG6vz",
        "outputId": "7eb6a9f6-cef6-45b6-9f6a-e11189c4fab2"
      },
      "execution_count": null,
      "outputs": [
        {
          "output_type": "stream",
          "name": "stdout",
          "text": [
            "Prediction shape:  (64, 100, 66)  # (batch_size, sequence_length, vocab_size)\n",
            "Mean loss:         tf.Tensor(4.1902285, shape=(), dtype=float32)\n"
          ]
        }
      ]
    },
    {
      "cell_type": "code",
      "source": [
        "tf.exp(example_batch_mean_loss).numpy()"
      ],
      "metadata": {
        "colab": {
          "base_uri": "https://localhost:8080/"
        },
        "id": "oL8JJp95HQoD",
        "outputId": "79e78dbf-0607-4b8d-84cf-94fbc56011da"
      },
      "execution_count": null,
      "outputs": [
        {
          "output_type": "execute_result",
          "data": {
            "text/plain": [
              "66.03788"
            ]
          },
          "metadata": {},
          "execution_count": 78
        }
      ]
    },
    {
      "cell_type": "code",
      "source": [
        "model.compile(optimizer='adam', loss=loss)"
      ],
      "metadata": {
        "id": "W4vSARsVHS0T"
      },
      "execution_count": null,
      "outputs": []
    },
    {
      "cell_type": "markdown",
      "source": [
        "# Konfigurasi Checkpoints\n",
        "Gunakan tf.keras.callbacks.ModelCheckpoint untuk memastikan bahwa checkpoint disimpan selama pelatihan:"
      ],
      "metadata": {
        "id": "XSm9QyEaHVue"
      }
    },
    {
      "cell_type": "code",
      "source": [
        "# Directory where the checkpoints will be saved\n",
        "checkpoint_dir = './training_checkpoints'\n",
        "# Name of the checkpoint files\n",
        "checkpoint_prefix = os.path.join(checkpoint_dir, \"ckpt_{epoch}\")\n",
        "\n",
        "checkpoint_callback = tf.keras.callbacks.ModelCheckpoint(\n",
        "    filepath=checkpoint_prefix,\n",
        "    save_weights_only=True)"
      ],
      "metadata": {
        "id": "IWKiTFWOHipd"
      },
      "execution_count": null,
      "outputs": []
    },
    {
      "cell_type": "markdown",
      "source": [
        "# Lakukan Proses Training\n",
        "Agar waktu pelatihan tidak terlalu lama, gunakan 10 epoch untuk melatih model. Di Colab, setel runtime ke GPU untuk pelatihan yang lebih cepat."
      ],
      "metadata": {
        "id": "z5RNy2LdHlP7"
      }
    },
    {
      "cell_type": "code",
      "source": [
        "EPOCHS = 20"
      ],
      "metadata": {
        "id": "oS3r737mHoHz"
      },
      "execution_count": null,
      "outputs": []
    },
    {
      "cell_type": "code",
      "source": [
        "history = model.fit(dataset, epochs=EPOCHS, callbacks=[checkpoint_callback])"
      ],
      "metadata": {
        "colab": {
          "base_uri": "https://localhost:8080/"
        },
        "id": "Ohqyv6oeHsyL",
        "outputId": "92aca6eb-6cc2-4bee-a6d0-3c3689a3fd1d"
      },
      "execution_count": null,
      "outputs": [
        {
          "output_type": "stream",
          "name": "stdout",
          "text": [
            "Epoch 1/20\n",
            "172/172 [==============================] - 16s 56ms/step - loss: 2.7314\n",
            "Epoch 2/20\n",
            "172/172 [==============================] - 11s 54ms/step - loss: 1.9966\n",
            "Epoch 3/20\n",
            "172/172 [==============================] - 11s 55ms/step - loss: 1.7160\n",
            "Epoch 4/20\n",
            "172/172 [==============================] - 12s 56ms/step - loss: 1.5529\n",
            "Epoch 5/20\n",
            "172/172 [==============================] - 13s 56ms/step - loss: 1.4528\n",
            "Epoch 6/20\n",
            "172/172 [==============================] - 12s 57ms/step - loss: 1.3827\n",
            "Epoch 7/20\n",
            "172/172 [==============================] - 13s 57ms/step - loss: 1.3292\n",
            "Epoch 8/20\n",
            "172/172 [==============================] - 12s 58ms/step - loss: 1.2840\n",
            "Epoch 9/20\n",
            "172/172 [==============================] - 12s 58ms/step - loss: 1.2418\n",
            "Epoch 10/20\n",
            "172/172 [==============================] - 13s 58ms/step - loss: 1.2022\n",
            "Epoch 11/20\n",
            "172/172 [==============================] - 12s 59ms/step - loss: 1.1625\n",
            "Epoch 12/20\n",
            "172/172 [==============================] - 12s 60ms/step - loss: 1.1208\n",
            "Epoch 13/20\n",
            "172/172 [==============================] - 13s 59ms/step - loss: 1.0758\n",
            "Epoch 14/20\n",
            "172/172 [==============================] - 13s 61ms/step - loss: 1.0304\n",
            "Epoch 15/20\n",
            "172/172 [==============================] - 12s 61ms/step - loss: 0.9821\n",
            "Epoch 16/20\n",
            "172/172 [==============================] - 12s 58ms/step - loss: 0.9298\n",
            "Epoch 17/20\n",
            "172/172 [==============================] - 13s 60ms/step - loss: 0.8779\n",
            "Epoch 18/20\n",
            "172/172 [==============================] - 14s 62ms/step - loss: 0.8248\n",
            "Epoch 19/20\n",
            "172/172 [==============================] - 12s 61ms/step - loss: 0.7729\n",
            "Epoch 20/20\n",
            "172/172 [==============================] - 12s 58ms/step - loss: 0.7242\n"
          ]
        }
      ]
    },
    {
      "cell_type": "code",
      "source": [
        "class OneStep(tf.keras.Model):\n",
        "  def __init__(self, model, chars_from_ids, ids_from_chars, temperature=1.0):\n",
        "    super().__init__()\n",
        "    self.temperature = temperature\n",
        "    self.model = model\n",
        "    self.chars_from_ids = chars_from_ids\n",
        "    self.ids_from_chars = ids_from_chars\n",
        "\n",
        "    # Create a mask to prevent \"[UNK]\" from being generated.\n",
        "    skip_ids = self.ids_from_chars(['[UNK]'])[:, None]\n",
        "    sparse_mask = tf.SparseTensor(\n",
        "        # Put a -inf at each bad index.\n",
        "        values=[-float('inf')]*len(skip_ids),\n",
        "        indices=skip_ids,\n",
        "        # Match the shape to the vocabulary\n",
        "        dense_shape=[len(ids_from_chars.get_vocabulary())])\n",
        "    self.prediction_mask = tf.sparse.to_dense(sparse_mask)\n",
        "\n",
        "  @tf.function\n",
        "  def generate_one_step(self, inputs, states=None):\n",
        "    # Convert strings to token IDs.\n",
        "    input_chars = tf.strings.unicode_split(inputs, 'UTF-8')\n",
        "    input_ids = self.ids_from_chars(input_chars).to_tensor()\n",
        "\n",
        "    # Run the model.\n",
        "    # predicted_logits.shape is [batch, char, next_char_logits]\n",
        "    predicted_logits, states = self.model(inputs=input_ids, states=states,\n",
        "                                          return_state=True)\n",
        "    # Only use the last prediction.\n",
        "    predicted_logits = predicted_logits[:, -1, :]\n",
        "    predicted_logits = predicted_logits/self.temperature\n",
        "    # Apply the prediction mask: prevent \"[UNK]\" from being generated.\n",
        "    predicted_logits = predicted_logits + self.prediction_mask\n",
        "\n",
        "    # Sample the output logits to generate token IDs.\n",
        "    predicted_ids = tf.random.categorical(predicted_logits, num_samples=1)\n",
        "    predicted_ids = tf.squeeze(predicted_ids, axis=-1)\n",
        "\n",
        "    # Convert from token ids to characters\n",
        "    predicted_chars = self.chars_from_ids(predicted_ids)\n",
        "\n",
        "    # Return the characters and model state.\n",
        "    return predicted_chars, states"
      ],
      "metadata": {
        "id": "apTnOAvUJYvy"
      },
      "execution_count": null,
      "outputs": []
    },
    {
      "cell_type": "markdown",
      "source": [
        "Jalankan secara berulang untuk menghasilkan beberapa teks. Melihat teks yang dihasilkan, Anda akan melihat model mengetahui kapan harus menggunakan huruf besar, membuat paragraf, dan meniru kosakata menulis seperti Shakespeare. Karena sedikitnya jumlah epoch pelatihan, model belum belajar membentuk kalimat runtut."
      ],
      "metadata": {
        "id": "aMwIfj3OJceJ"
      }
    },
    {
      "cell_type": "code",
      "source": [
        "start = time.time()\n",
        "states = None\n",
        "next_char = tf.constant(['ROMEO:'])\n",
        "result = [next_char]\n",
        "\n",
        "for n in range(1000):\n",
        "  # Assuming you have already defined the model named 'model'\n",
        "  one_step_model = OneStep(model, chars_from_ids, ids_from_chars)\n",
        "  result.append(next_char)\n",
        "\n",
        "result = tf.strings.join(result)\n",
        "end = time.time()\n",
        "print(result[0].numpy().decode('utf-8'), '\\n\\n' + '_'*80)\n",
        "print('\\nRun time:', end - start)"
      ],
      "metadata": {
        "colab": {
          "base_uri": "https://localhost:8080/"
        },
        "id": "NHpVFffaJc9a",
        "outputId": "eac56840-36ef-4ee3-f87f-ca3b97ff7463"
      },
      "execution_count": null,
      "outputs": [
        {
          "output_type": "stream",
          "name": "stdout",
          "text": [
            "ROMEO:ROMEO:ROMEO:ROMEO:ROMEO:ROMEO:ROMEO:ROMEO:ROMEO:ROMEO:ROMEO:ROMEO:ROMEO:ROMEO:ROMEO:ROMEO:ROMEO:ROMEO:ROMEO:ROMEO:ROMEO:ROMEO:ROMEO:ROMEO:ROMEO:ROMEO:ROMEO:ROMEO:ROMEO:ROMEO:ROMEO:ROMEO:ROMEO:ROMEO:ROMEO:ROMEO:ROMEO:ROMEO:ROMEO:ROMEO:ROMEO:ROMEO:ROMEO:ROMEO:ROMEO:ROMEO:ROMEO:ROMEO:ROMEO:ROMEO:ROMEO:ROMEO:ROMEO:ROMEO:ROMEO:ROMEO:ROMEO:ROMEO:ROMEO:ROMEO:ROMEO:ROMEO:ROMEO:ROMEO:ROMEO:ROMEO:ROMEO:ROMEO:ROMEO:ROMEO:ROMEO:ROMEO:ROMEO:ROMEO:ROMEO:ROMEO:ROMEO:ROMEO:ROMEO:ROMEO:ROMEO:ROMEO:ROMEO:ROMEO:ROMEO:ROMEO:ROMEO:ROMEO:ROMEO:ROMEO:ROMEO:ROMEO:ROMEO:ROMEO:ROMEO:ROMEO:ROMEO:ROMEO:ROMEO:ROMEO:ROMEO:ROMEO:ROMEO:ROMEO:ROMEO:ROMEO:ROMEO:ROMEO:ROMEO:ROMEO:ROMEO:ROMEO:ROMEO:ROMEO:ROMEO:ROMEO:ROMEO:ROMEO:ROMEO:ROMEO:ROMEO:ROMEO:ROMEO:ROMEO:ROMEO:ROMEO:ROMEO:ROMEO:ROMEO:ROMEO:ROMEO:ROMEO:ROMEO:ROMEO:ROMEO:ROMEO:ROMEO:ROMEO:ROMEO:ROMEO:ROMEO:ROMEO:ROMEO:ROMEO:ROMEO:ROMEO:ROMEO:ROMEO:ROMEO:ROMEO:ROMEO:ROMEO:ROMEO:ROMEO:ROMEO:ROMEO:ROMEO:ROMEO:ROMEO:ROMEO:ROMEO:ROMEO:ROMEO:ROMEO:ROMEO:ROMEO:ROMEO:ROMEO:ROMEO:ROMEO:ROMEO:ROMEO:ROMEO:ROMEO:ROMEO:ROMEO:ROMEO:ROMEO:ROMEO:ROMEO:ROMEO:ROMEO:ROMEO:ROMEO:ROMEO:ROMEO:ROMEO:ROMEO:ROMEO:ROMEO:ROMEO:ROMEO:ROMEO:ROMEO:ROMEO:ROMEO:ROMEO:ROMEO:ROMEO:ROMEO:ROMEO:ROMEO:ROMEO:ROMEO:ROMEO:ROMEO:ROMEO:ROMEO:ROMEO:ROMEO:ROMEO:ROMEO:ROMEO:ROMEO:ROMEO:ROMEO:ROMEO:ROMEO:ROMEO:ROMEO:ROMEO:ROMEO:ROMEO:ROMEO:ROMEO:ROMEO:ROMEO:ROMEO:ROMEO:ROMEO:ROMEO:ROMEO:ROMEO:ROMEO:ROMEO:ROMEO:ROMEO:ROMEO:ROMEO:ROMEO:ROMEO:ROMEO:ROMEO:ROMEO:ROMEO:ROMEO:ROMEO:ROMEO:ROMEO:ROMEO:ROMEO:ROMEO:ROMEO:ROMEO:ROMEO:ROMEO:ROMEO:ROMEO:ROMEO:ROMEO:ROMEO:ROMEO:ROMEO:ROMEO:ROMEO:ROMEO:ROMEO:ROMEO:ROMEO:ROMEO:ROMEO:ROMEO:ROMEO:ROMEO:ROMEO:ROMEO:ROMEO:ROMEO:ROMEO:ROMEO:ROMEO:ROMEO:ROMEO:ROMEO:ROMEO:ROMEO:ROMEO:ROMEO:ROMEO:ROMEO:ROMEO:ROMEO:ROMEO:ROMEO:ROMEO:ROMEO:ROMEO:ROMEO:ROMEO:ROMEO:ROMEO:ROMEO:ROMEO:ROMEO:ROMEO:ROMEO:ROMEO:ROMEO:ROMEO:ROMEO:ROMEO:ROMEO:ROMEO:ROMEO:ROMEO:ROMEO:ROMEO:ROMEO:ROMEO:ROMEO:ROMEO:ROMEO:ROMEO:ROMEO:ROMEO:ROMEO:ROMEO:ROMEO:ROMEO:ROMEO:ROMEO:ROMEO:ROMEO:ROMEO:ROMEO:ROMEO:ROMEO:ROMEO:ROMEO:ROMEO:ROMEO:ROMEO:ROMEO:ROMEO:ROMEO:ROMEO:ROMEO:ROMEO:ROMEO:ROMEO:ROMEO:ROMEO:ROMEO:ROMEO:ROMEO:ROMEO:ROMEO:ROMEO:ROMEO:ROMEO:ROMEO:ROMEO:ROMEO:ROMEO:ROMEO:ROMEO:ROMEO:ROMEO:ROMEO:ROMEO:ROMEO:ROMEO:ROMEO:ROMEO:ROMEO:ROMEO:ROMEO:ROMEO:ROMEO:ROMEO:ROMEO:ROMEO:ROMEO:ROMEO:ROMEO:ROMEO:ROMEO:ROMEO:ROMEO:ROMEO:ROMEO:ROMEO:ROMEO:ROMEO:ROMEO:ROMEO:ROMEO:ROMEO:ROMEO:ROMEO:ROMEO:ROMEO:ROMEO:ROMEO:ROMEO:ROMEO:ROMEO:ROMEO:ROMEO:ROMEO:ROMEO:ROMEO:ROMEO:ROMEO:ROMEO:ROMEO:ROMEO:ROMEO:ROMEO:ROMEO:ROMEO:ROMEO:ROMEO:ROMEO:ROMEO:ROMEO:ROMEO:ROMEO:ROMEO:ROMEO:ROMEO:ROMEO:ROMEO:ROMEO:ROMEO:ROMEO:ROMEO:ROMEO:ROMEO:ROMEO:ROMEO:ROMEO:ROMEO:ROMEO:ROMEO:ROMEO:ROMEO:ROMEO:ROMEO:ROMEO:ROMEO:ROMEO:ROMEO:ROMEO:ROMEO:ROMEO:ROMEO:ROMEO:ROMEO:ROMEO:ROMEO:ROMEO:ROMEO:ROMEO:ROMEO:ROMEO:ROMEO:ROMEO:ROMEO:ROMEO:ROMEO:ROMEO:ROMEO:ROMEO:ROMEO:ROMEO:ROMEO:ROMEO:ROMEO:ROMEO:ROMEO:ROMEO:ROMEO:ROMEO:ROMEO:ROMEO:ROMEO:ROMEO:ROMEO:ROMEO:ROMEO:ROMEO:ROMEO:ROMEO:ROMEO:ROMEO:ROMEO:ROMEO:ROMEO:ROMEO:ROMEO:ROMEO:ROMEO:ROMEO:ROMEO:ROMEO:ROMEO:ROMEO:ROMEO:ROMEO:ROMEO:ROMEO:ROMEO:ROMEO:ROMEO:ROMEO:ROMEO:ROMEO:ROMEO:ROMEO:ROMEO:ROMEO:ROMEO:ROMEO:ROMEO:ROMEO:ROMEO:ROMEO:ROMEO:ROMEO:ROMEO:ROMEO:ROMEO:ROMEO:ROMEO:ROMEO:ROMEO:ROMEO:ROMEO:ROMEO:ROMEO:ROMEO:ROMEO:ROMEO:ROMEO:ROMEO:ROMEO:ROMEO:ROMEO:ROMEO:ROMEO:ROMEO:ROMEO:ROMEO:ROMEO:ROMEO:ROMEO:ROMEO:ROMEO:ROMEO:ROMEO:ROMEO:ROMEO:ROMEO:ROMEO:ROMEO:ROMEO:ROMEO:ROMEO:ROMEO:ROMEO:ROMEO:ROMEO:ROMEO:ROMEO:ROMEO:ROMEO:ROMEO:ROMEO:ROMEO:ROMEO:ROMEO:ROMEO:ROMEO:ROMEO:ROMEO:ROMEO:ROMEO:ROMEO:ROMEO:ROMEO:ROMEO:ROMEO:ROMEO:ROMEO:ROMEO:ROMEO:ROMEO:ROMEO:ROMEO:ROMEO:ROMEO:ROMEO:ROMEO:ROMEO:ROMEO:ROMEO:ROMEO:ROMEO:ROMEO:ROMEO:ROMEO:ROMEO:ROMEO:ROMEO:ROMEO:ROMEO:ROMEO:ROMEO:ROMEO:ROMEO:ROMEO:ROMEO:ROMEO:ROMEO:ROMEO:ROMEO:ROMEO:ROMEO:ROMEO:ROMEO:ROMEO:ROMEO:ROMEO:ROMEO:ROMEO:ROMEO:ROMEO:ROMEO:ROMEO:ROMEO:ROMEO:ROMEO:ROMEO:ROMEO:ROMEO:ROMEO:ROMEO:ROMEO:ROMEO:ROMEO:ROMEO:ROMEO:ROMEO:ROMEO:ROMEO:ROMEO:ROMEO:ROMEO:ROMEO:ROMEO:ROMEO:ROMEO:ROMEO:ROMEO:ROMEO:ROMEO:ROMEO:ROMEO:ROMEO:ROMEO:ROMEO:ROMEO:ROMEO:ROMEO:ROMEO:ROMEO:ROMEO:ROMEO:ROMEO:ROMEO:ROMEO:ROMEO:ROMEO:ROMEO:ROMEO:ROMEO:ROMEO:ROMEO:ROMEO:ROMEO:ROMEO:ROMEO:ROMEO:ROMEO:ROMEO:ROMEO:ROMEO:ROMEO:ROMEO:ROMEO:ROMEO:ROMEO:ROMEO:ROMEO:ROMEO:ROMEO:ROMEO:ROMEO:ROMEO:ROMEO:ROMEO:ROMEO:ROMEO:ROMEO:ROMEO:ROMEO:ROMEO:ROMEO:ROMEO:ROMEO:ROMEO:ROMEO:ROMEO:ROMEO:ROMEO:ROMEO:ROMEO:ROMEO:ROMEO:ROMEO:ROMEO:ROMEO:ROMEO:ROMEO:ROMEO:ROMEO:ROMEO:ROMEO:ROMEO:ROMEO:ROMEO:ROMEO:ROMEO:ROMEO:ROMEO:ROMEO:ROMEO:ROMEO:ROMEO:ROMEO:ROMEO:ROMEO:ROMEO:ROMEO:ROMEO:ROMEO:ROMEO:ROMEO:ROMEO:ROMEO:ROMEO:ROMEO:ROMEO:ROMEO:ROMEO:ROMEO:ROMEO:ROMEO:ROMEO:ROMEO:ROMEO:ROMEO:ROMEO:ROMEO:ROMEO:ROMEO:ROMEO:ROMEO:ROMEO:ROMEO:ROMEO:ROMEO:ROMEO:ROMEO:ROMEO:ROMEO:ROMEO:ROMEO:ROMEO:ROMEO:ROMEO:ROMEO:ROMEO:ROMEO:ROMEO:ROMEO:ROMEO:ROMEO:ROMEO:ROMEO:ROMEO:ROMEO:ROMEO:ROMEO:ROMEO:ROMEO:ROMEO:ROMEO:ROMEO:ROMEO:ROMEO:ROMEO:ROMEO:ROMEO:ROMEO:ROMEO:ROMEO:ROMEO:ROMEO:ROMEO:ROMEO:ROMEO:ROMEO:ROMEO:ROMEO:ROMEO:ROMEO:ROMEO:ROMEO:ROMEO:ROMEO:ROMEO:ROMEO:ROMEO:ROMEO:ROMEO:ROMEO:ROMEO:ROMEO:ROMEO:ROMEO:ROMEO:ROMEO:ROMEO:ROMEO:ROMEO:ROMEO:ROMEO:ROMEO:ROMEO:ROMEO:ROMEO:ROMEO:ROMEO:ROMEO:ROMEO:ROMEO:ROMEO:ROMEO:ROMEO:ROMEO:ROMEO:ROMEO:ROMEO:ROMEO:ROMEO:ROMEO:ROMEO:ROMEO:ROMEO:ROMEO:ROMEO:ROMEO:ROMEO:ROMEO:ROMEO:ROMEO:ROMEO:ROMEO:ROMEO:ROMEO:ROMEO:ROMEO:ROMEO:ROMEO:ROMEO:ROMEO:ROMEO:ROMEO:ROMEO:ROMEO:ROMEO:ROMEO:ROMEO:ROMEO:ROMEO:ROMEO:ROMEO:ROMEO:ROMEO:ROMEO:ROMEO:ROMEO:ROMEO:ROMEO:ROMEO:ROMEO:ROMEO:ROMEO:ROMEO:ROMEO:ROMEO:ROMEO:ROMEO:ROMEO:ROMEO:ROMEO:ROMEO:ROMEO:ROMEO:ROMEO:ROMEO:ROMEO:ROMEO:ROMEO:ROMEO:ROMEO:ROMEO:ROMEO:ROMEO:ROMEO:ROMEO:ROMEO:ROMEO:ROMEO:ROMEO:ROMEO:ROMEO:ROMEO:ROMEO:ROMEO:ROMEO:ROMEO:ROMEO:ROMEO:ROMEO:ROMEO:ROMEO:ROMEO:ROMEO:ROMEO:ROMEO:ROMEO:ROMEO:ROMEO:ROMEO:ROMEO:ROMEO:ROMEO:ROMEO:ROMEO:ROMEO:ROMEO:ROMEO:ROMEO:ROMEO:ROMEO:ROMEO:ROMEO:ROMEO:ROMEO:ROMEO:ROMEO:ROMEO:ROMEO:ROMEO:ROMEO:ROMEO:ROMEO:ROMEO:ROMEO:ROMEO:ROMEO:ROMEO:ROMEO:ROMEO:ROMEO:ROMEO:ROMEO:ROMEO:ROMEO:ROMEO:ROMEO:ROMEO:ROMEO:ROMEO:ROMEO:ROMEO:ROMEO:ROMEO: \n",
            "\n",
            "________________________________________________________________________________\n",
            "\n",
            "Run time: 8.572829008102417\n"
          ]
        }
      ]
    },
    {
      "cell_type": "code",
      "source": [
        "start = time.time()\n",
        "states = None\n",
        "next_char = tf.constant(['ROMEO:', 'ROMEO:', 'ROMEO:', 'ROMEO:', 'ROMEO:'])\n",
        "result = [next_char]\n",
        "\n",
        "for n in range(1000):\n",
        "  next_char, states = one_step_model.generate_one_step(next_char, states=states)\n",
        "  result.append(next_char)\n",
        "\n",
        "result = tf.strings.join(result)\n",
        "end = time.time()\n",
        "print(result, '\\n\\n' + '_'*80)\n",
        "print('\\nRun time:', end - start)"
      ],
      "metadata": {
        "colab": {
          "base_uri": "https://localhost:8080/"
        },
        "id": "JOM8KUljJr77",
        "outputId": "4bc9d636-1522-4992-ec16-0d27b8284bfd"
      },
      "execution_count": null,
      "outputs": [
        {
          "output_type": "stream",
          "name": "stdout",
          "text": [
            "tf.Tensor(\n",
            "[b\"ROMEO:\\nWho shall be done?\\n\\nSICINIUS:\\nShe hath.\\n\\nBENVOLIO:\\nWhy, what honouray's earth?\\n\\nPAULINA:\\nThere is thy power, you must part contempt\\nThat by desiring mistrust in my boot.\\nBeing a noble fellows, sir, that Plantagenet\\nShould wish for your eyes, and no less riter\\nBoling the midest horse unto your sufficient\\nYour coates move their hearts of mother; we came\\nTo see the cofford of them, 'II' quoth de, Romeo.\\n\\nROMEO:\\nCall me both the envious flood of mine than I,\\nThe vaulty and Sixing it: come, take upon my son.\\nShe is work to my silent fools.\\n\\nQUEEN ELIZABETH:\\nWhat, will you go?\\n\\nDUKE VINCENTIO:\\nAgainst my lord, this is come to few them; as their gracious\\nYour recounter in his own deed? and his oils?\\nWhat sabelys of thee? art thou the\\nsee money?\\n\\nMENENIUS:\\nI am they sat: there may be gracting with the\\nthree penitent to many friends, it make returned\\nuncappies the happy earth.\\n\\nLord Mayor:\\nSee, where is that Bolingbroke does the bot!\\n\\nGLOUCESTER:\\nI do besie the city when this way with me.\\nMaki\"\n",
            " b\"ROMEO:\\nI promise you! you should hold conspirators,\\nBack to the public for use to tell\\nThe king farewell to end; it should now, now\\nIf I flower on approbation, my master,\\nVash as soon as the plucks of malice hath content\\nIs almostly born to sun. Come, of you me,\\nLest thou couldst, how fell proud in Menencu?\\n\\nHerBELLA:\\nO, couple! do you long so ill, my son weather\\nBlunt, upon thee; for we talked with me.\\n\\nDUKE VINCENTIO:\\nThese youthful Edward! Ay, that's like a merry power\\nTo get a man of wing, I say.\\n\\nDUCHESS OF YORK:\\nThou liest, last, that lives let the place mother: I,\\nWhen, good my lord; entreating so thrive colls?\\nAs we will go, forsente your honour.\\n\\nLADY ANNE:\\nFoul sovereign, that thou canst out: men and remain\\nWould be your tunn, more pity that the queen\\nhappy, sir, and be my present a queen:\\nI would have fould, you cannot there;\\nAh, whither the people's title weeps,\\nAnd that is lose cheets will fly.\\nGod for his mercy, my pirch and loving lord!\\nI am gone foreta'l: go, pullage me!\\nWhat\"\n",
            " b\"ROMEO:\\nGood mortal blessing, sir, but one word were they shall.\\n\\nVINCENTIO:\\nThey say, it was a parlent. I will kiss this well-grave child,\\nI do beseem thee with all praise may reppeal mine:\\nBalikilling him! for Edward out fellow.\\n\\nDUKE VINCENTIO:\\nSon: I'll use me well.\\nLeave me, that I myself have stuff'd friends,\\nGreater, forrict his gold, how you may--alphy,\\nBoy: for thee, Overdone's trial.\\n\\nDUCHESS OF YORK:\\nNo, say, your son so heavy home, the poisterous lirs,\\nThat you shall see her both than bitter plotest.\\n\\nKING LEWIS XI:\\nWhat hath a peace be discobjects, an affairs to enigh,\\nIs perfect him that doth nature, and fly grants thou takest;\\nAnd so it seems your houses! Darest not\\nWorthy services?\\nOf that is mine, I'll rid you dead. The dame's upon me!\\nI am an eye-flex. Lein me, who 'shall'\\nGod knows this enroll devil: for he hath gone,\\nBut mark my wars and kind of coats to fly,\\nThese eases to see it thine. This is a min\\nA most malmock and extremity.\\n\\nQUEEN ELIZABETH:\\nWho knew of fear is more\"\n",
            " b\"ROMEO:\\nThis is not so much: betide thee, man,\\nI would be part withal me, you shall meet's weigh.\\nYes, I forgive me, that is toil you will.\\n\\nLORD WILLOUGHBY:\\nHave mine honours for the town of men\\nMay prove a sea, for you that enter in his third.\\n\\nPRINCE EDWARD:\\nName, putting thee to meet the truth of it.\\n\\nKATHARINA:\\nPrepare your mother.\\n\\nDERBY:\\nI do, rather, and pray abain as they dost not\\nsund this is the way; there was a traitor told,\\nBaliking pensleceived intally,\\nWhat of you to put by this land back?\\nAh, not to dress your grace and Lawful:\\nThere is no hope in thy transorted\\nThat God, thou wouldst have but a man, as well as he.\\nThen tells me how the wind shall stirr; and thereto\\nOne that, thoughts to the bott my way, being meet,\\nAnd men, your saints seem to them: is it therefore?\\n\\nBAPTISTA:\\nAnd you were used: save meet me lack.\\n\\nANTIGONUS:\\nTailor,\\nFaith, help, gentle now!\\n\\nGLOUCESTER:\\nWell, you'll rejoice a dear!\\n\\nCLIFFORD:\\nClarence, call them away: it if our drunk right well\\nfellow to the\"\n",
            " b\"ROMEO:\\nWell, well, well; some corook to be gone.\\n\\nROMEO:\\nBut, I am so oft my brother; therefore comes I give him\\nForbid: I know my uncle gracious depare\\nThat told me only sin. we will meet with mo\\nuspaled, that to stop holy matter. But, more will!\\nIf I would answer to the purpose. Mark what comes\\nTo win thy rash: I say well then to wain;\\nNo partle with me; for all the curst\\nWholesome my lord shall be deliver'd\\nSo altimely downright; he had gone to that see.\\nIs it that she were as go, along?\\n'He may, years, madam; we must else him.\\n\\nLord MasticG:\\nA miserabher, down again, I dare\\nnot peace. For you, my noble queen, my sword,\\nWho, there I have, here in the gracious mother:\\nWhich we too, and then they do?\\n\\nDUKE OF YORK:\\nBeseech you this night, young saint Aufidius to\\nme that kill'd him! A beg that swales he maid,\\nMost idle resolute at,'ting, meats!\\nTherefore you should discharge this well-just lost.\\n\\nPETRUCHIO:\\nThe drum, than my poor boy, I dost and wake his heart.\\nThis pettimy do more himself.\\n\"], shape=(5,), dtype=string) \n",
            "\n",
            "________________________________________________________________________________\n",
            "\n",
            "Run time: 3.8002829551696777\n"
          ]
        }
      ]
    },
    {
      "cell_type": "markdown",
      "source": [
        "# Ekspor Model Generator\n",
        "Model satu langkah ini dapat dengan mudah disimpan dan digunakan kembali, memungkinkan Anda menggunakannya di mana pun tf.saved_model diterima."
      ],
      "metadata": {
        "id": "mlUpBZwwKMta"
      }
    },
    {
      "cell_type": "code",
      "source": [
        "tf.saved_model.save(one_step_model, 'one_step')\n",
        "one_step_reloaded = tf.saved_model.load('one_step')"
      ],
      "metadata": {
        "colab": {
          "base_uri": "https://localhost:8080/"
        },
        "id": "D2rHISWCKOX6",
        "outputId": "5cc33b5b-21d1-41aa-ef4c-4bf65a89c973"
      },
      "execution_count": null,
      "outputs": [
        {
          "output_type": "stream",
          "name": "stderr",
          "text": [
            "WARNING:tensorflow:Skipping full serialization of Keras layer <__main__.OneStep object at 0x7834eb3a1f60>, because it is not built.\n",
            "WARNING:tensorflow:Model's `__init__()` arguments contain non-serializable objects. Please implement a `get_config()` method in the subclassed Model for proper saving and loading. Defaulting to empty config.\n",
            "WARNING:tensorflow:Model's `__init__()` arguments contain non-serializable objects. Please implement a `get_config()` method in the subclassed Model for proper saving and loading. Defaulting to empty config.\n"
          ]
        }
      ]
    },
    {
      "cell_type": "code",
      "source": [
        "states = None\n",
        "next_char = tf.constant(['ROMEO:', '', '', '', ''])  # Adjust the shape to (5,)\n",
        "result = [next_char]\n",
        "\n",
        "for n in range(100):\n",
        "    next_char, states = one_step_reloaded.generate_one_step(next_char, states=states)\n",
        "    result.append(next_char)\n",
        "\n",
        "print(tf.strings.join(result)[0].numpy().decode(\"utf-8\"))\n"
      ],
      "metadata": {
        "colab": {
          "base_uri": "https://localhost:8080/"
        },
        "id": "GFQJI-DOKTpB",
        "outputId": "ec1f64c0-baae-4197-8334-78320d240f0b"
      },
      "execution_count": null,
      "outputs": [
        {
          "output_type": "stream",
          "name": "stdout",
          "text": [
            "ROMEO:\n",
            "Great Aufidius, an a resolution to Polixenes\n",
            "To any thing they have alive, the presency stark\n",
            "From \n"
          ]
        }
      ]
    },
    {
      "cell_type": "markdown",
      "source": [
        "# Tugas\n",
        "\n",
        "Custom Training Step (train_step method):"
      ],
      "metadata": {
        "id": "NB51byEWgkpC"
      }
    },
    {
      "cell_type": "code",
      "source": [
        "class CustomTraining(MyModel):\n",
        "    @tf.function\n",
        "    def train_step(self, inputs):\n",
        "        inputs, labels = inputs\n",
        "        with tf.GradientTape() as tape:\n",
        "            predictions = self(inputs, training=True)\n",
        "            loss = self.loss(labels, predictions)\n",
        "        grads = tape.gradient(loss, model.trainable_variables)\n",
        "        self.optimizer.apply_gradients(zip(grads, model.trainable_variables))\n",
        "\n",
        "        return {'loss': loss}"
      ],
      "metadata": {
        "id": "t_X-PbTog9cy"
      },
      "execution_count": 23,
      "outputs": []
    }
  ]
}